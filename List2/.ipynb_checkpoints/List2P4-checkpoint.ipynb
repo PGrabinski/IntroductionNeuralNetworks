{
 "cells": [
  {
   "cell_type": "markdown",
   "metadata": {},
   "source": [
    "# Neural Networks: List 2"
   ]
  },
  {
   "cell_type": "code",
   "execution_count": 1,
   "metadata": {
    "collapsed": true
   },
   "outputs": [],
   "source": [
    "import numpy as np\n",
    "import matplotlib.pyplot as plt\n",
    "%matplotlib inline\n",
    "import pandas as pd"
   ]
  },
  {
   "cell_type": "markdown",
   "metadata": {
    "colab_type": "text",
    "id": "G1dN1chxaj8e"
   },
   "source": [
    "## Dataset"
   ]
  },
  {
   "cell_type": "markdown",
   "metadata": {
    "colab_type": "text",
    "id": "B9ziqocicDV1"
   },
   "source": [
    "### Loading"
   ]
  },
  {
   "cell_type": "code",
   "execution_count": 2,
   "metadata": {
    "colab": {},
    "colab_type": "code",
    "collapsed": true,
    "id": "OeqqWJ9bakhX"
   },
   "outputs": [],
   "source": [
    "a=np.array([[-1,-1,-1,-1,1],[1,-1,1,1,-1],[1,-1,1,1,-1],[1,-1,1,1,-1],[1,-1,-1,-1,1]])\n",
    "b=np.array([[-1,-1,-1,-1,-1],[1,1,1,-1,1],[1,1,1,-1,1],[-1,1,1,-1,1],[-1,-1,-1,1,1]])\n",
    "c=np.array([[1,-1,-1,-1,-1],[-1,1,1,1,1],[-1,1,1,1,1],[-1,1,1,1,1],[1,-1,-1,-1,-1]])\n",
    "d=np.array([[-1,1,1,1,-1],[-1,-1,1,-1,-1],[-1,1,-1,1,-1],[-1,1,1,1,-1],[-1,1,1,1,-1]])\n",
    "p5=np.array([[1,-1,1,-1,1],[-1,1,-1,1,-1],[1,-1,1,-1,1],[-1,1,-1,1,-1],[1,-1,1,-1,1]])\n",
    "p6=np.array([[1,-1,-1,-1,1],[-1,1,1,1,1],[1,-1,-1,-1,1],[1,1,1,1,-1],[1,-1,-1,-1,1]])\n",
    "train_data = np.array([a, b, c, d, p5, p6])\n",
    "t1=np.array([[-1,-1,-1,-1,1],[1,-1,1,1,-1],[1,-1,1,1,-1],[-1,-1,1,1,-1],[1,-1,-1,-1,1]])\n",
    "t2=np.array([[-1,-1,-1,-1,1],[1,1,1,-1,1],[1,1,1,-1,1],[-1,1,1,-1,1],[-1,1,-1,1,1]])\n",
    "t3=np.array([[-1,-1,-1,-1,1],[1,1,1,-1,1],[1,-1,1,-1,1],[1,1,1,1,1],[-1,-1,-1,1,1]])\n",
    "t4=np.array([[-1,-1,-1,-1,-1],[-1,1,1,1,-1],[-1,1,-1,1,1],[-1,1,1,-1,1],[1,-1,-1,-1,-1]])\n",
    "t5=np.array([[-1,1,1,1,-1],[-1,-1,1,-1,-1],[-1,1,-1,1,-1],[-1,1,1,1,-1],[-1,1,1,1,-1]])\n",
    "t6=np.array([[1,-1,1,1,-1],[1,-1,1,-1,-1],[-1,1,-1,1,1],[-1,1,1,1,-1],[-1,1,1,1,-1]])\n",
    "t7=np.array([[-1,-1,-1,1,-1],[1,-1,1,1,-1],[1,-1,1,-1,-1],[-1,-1,1,1,-1],[1,1,1,-1,1]])\n",
    "t8=np.array([[-1,1,1,1,-1],[-1,-1,1,1,-1],[1,1,-1,-1,1],[-1,1,1,1,-1],[-1,1,1,1,1]])\n",
    "t9=np.array([[-1,-1,-1,-1,1],[1,1,1,1,1],[-1,1,1,1,1],[-1,1,-1,-1,1],[-1,-1,1,1,1]])\n",
    "t10=np.array([[-1,-1,1,1,-1],[-1,1,1,1,1],[1,1,1,-1,1],[1,1,1,1,1],[1,1,-1,-1,1]])\n",
    "t11=np.array([[-1,-1,1,1,1],[1,1,1,-1,-1],[-1,1,-1,1,-1],[-1,1,-1,-1,1],[-1,1,1,1,-1]])\n",
    "t12=np.array([[1,-1,1,-1,1],[-1,1,1,1,-1],[1,-1,1,1,1],[-1,-1,-1,1,1],[1,-1,-1,1,-1]])\n",
    "t13=np.array([[1,1,1,1,-1],[1,-1,1,-1,1],[1,1,1,1,-1],[-1,-1,1,1,-1],[-1,1,1,-1,1]])\n",
    "test = np.array([t1, t2, t3, t4, t5, t6, t7, t8, t9, t10, t11, t12, t13])\n",
    "full = np.array([a, b, c, d, p5, p6,t1, t2, t3, t4, t5, t6, t7, t8, t9, t10, t11, t12, t13])"
   ]
  },
  {
   "cell_type": "code",
   "execution_count": 3,
   "metadata": {},
   "outputs": [
    {
     "data": {
      "text/plain": [
       "<matplotlib.image.AxesImage at 0x7f125b261ac8>"
      ]
     },
     "execution_count": 3,
     "metadata": {},
     "output_type": "execute_result"
    },
    {
     "data": {
      "image/png": "[encoded data removed]",
      "text/plain": [
       "<matplotlib.figure.Figure at 0x7f12885131d0>"
      ]
     },
     "metadata": {},
     "output_type": "display_data"
    }
   ],
   "source": [
    "plt.matshow(train_data[0])"
   ]
  },
  {
   "cell_type": "markdown",
   "metadata": {},
   "source": [
    "# Problem 4\n",
    "\n",
    "Implement the continuous Hopfield network."
   ]
  },
  {
   "cell_type": "markdown",
   "metadata": {},
   "source": [
    "**Riddle to solve:** Unless, I am mistaken, the derivative of the loss function should be defined as:\n",
    "$$\\frac{\\partial G}{\\partial w_{km}}=-\\frac{1}{2}\\sum_{\\mu=1}^N(\\xi^\\mu_k-S^\\mu_k)\\xi^\\mu_m$$\n",
    "where $S^\\mu_k=\\tanh(\\frac{1}{2}\\sum_{j=1}^{N_b}w_{kj}\\xi^\\mu_j)$.\n",
    "\n",
    "But here, in the implementation, the problem is solved by the following weight change function:\n",
    "$$\\frac{\\partial G}{\\partial w_{km}}=-\\frac{1}{2}\\sum_{\\mu=1}^N(\\xi^\\mu_k+S^\\mu_k)\\xi^\\mu_m.$$\n",
    "And I have no clue why it is so. Either, I have made a mistake in the derivations or there is some mistake in the code changing the signs somewhere."
   ]
  },
  {
   "cell_type": "code",
   "execution_count": 4,
   "metadata": {
    "collapsed": true
   },
   "outputs": [],
   "source": [
    "import hopfield"
   ]
  },
  {
   "cell_type": "code",
   "execution_count": 5,
   "metadata": {
    "collapsed": true
   },
   "outputs": [],
   "source": [
    "class ContinuousHopifield(hopfield.Hopfield):\n",
    "  def __init__(self, number_of_bits, print_format, synchronous_update=True):\n",
    "    super().__init__(number_of_bits, print_format=print_format, synchronous=synchronous_update,\n",
    "                     activation_function=lambda x: np.tanh(0.5 * x),\n",
    "               symmetric_weights=True, zero_self_interaction=True)\n",
    "    self.weights = np.random.random((number_of_bits, number_of_bits))\n",
    "    \n",
    "  def predict(self, state=None):\n",
    "    pattern = state\n",
    "    if pattern is None:\n",
    "      pattern = self.memory_state\n",
    "    if self.synchronous:\n",
    "      self.memory_state = self.activation_function(self.weights @ pattern)\n",
    "    else:\n",
    "      new_state = np.copy(pattern)\n",
    "      ids = np.arange(self.number_of_bits)\n",
    "      np.random.shuffle(ids)\n",
    "      for i in ids:\n",
    "        temp = np.copy(new_state)\n",
    "        new_state[i] = self.activation_function(self.weights[i, :] @ new_state)\n",
    "      self.memory_state = new_state\n",
    "    return self.memory_state\n",
    "  \n",
    "  def loss(self, dataset):\n",
    "    train_set = dataset.reshape(dataset.shape[0], -1)\n",
    "    response = np.apply_along_axis(self.predict, 1, train_set)\n",
    "    return -0.5*((train_set+1-1e-31)*np.log(0.5*(response+1 +1e-31))\n",
    "                 + (-train_set+1-1e-31)*np.log(0.5*(-response+1 +1e-31))).sum()\n",
    "  \n",
    "  def train(self, dataset, epochs=None, learning_rate=0.1, tolerance=None, verbose=False):\n",
    "    train_set = np.copy(dataset.reshape(dataset.shape[0], -1))\n",
    "    \n",
    "    if not tolerance is None and epochs is None:\n",
    "      prev_loss = self.loss(train_set) + 2 * tolerance\n",
    "      # Trains as long as loss goes down by some given parameter\n",
    "      counter = 1\n",
    "      while self.loss(train_set) > tolerance:\n",
    "        weight_change = np.apply_along_axis(self.predict, 1, train_set)\n",
    "        weight_change = train_set + weight_change\n",
    "        weight_change = -.5*train_set.T @ weight_change\n",
    "        prev_loss = self.loss(train_set)\n",
    "        if verbose:\n",
    "          print(f'Epoch: {counter} Loss: {prev_loss}')\n",
    "          counter += 1\n",
    "        self.weights += -learning_rate * weight_change\n",
    "        \n",
    "    elif tolerance is None and not epochs is None:\n",
    "      # Trains for a given number of epochs\n",
    "      for i in range(epochs):\n",
    "        weight_change = np.apply_along_axis(self.predict, 1, train_set)\n",
    "        weight_change = (train_set + weight_change)\n",
    "        weight_change = -0.5*train_set.T @ weight_change\n",
    "        self.weights += -learning_rate * weight_change\n",
    "        if verbose:\n",
    "          print(f'Epoch: {i} Loss: {self.loss(train_set)}')\n",
    "    else:\n",
    "      raise Exception('Choose either precision or epoch training!')"
   ]
  },
  {
   "cell_type": "markdown",
   "metadata": {},
   "source": [
    "## Training for 4 patterns"
   ]
  },
  {
   "cell_type": "code",
   "execution_count": 6,
   "metadata": {
    "collapsed": true
   },
   "outputs": [],
   "source": [
    "cont_hop4 = ContinuousHopifield(25, print_format=(5,5), synchronous_update=False)"
   ]
  },
  {
   "cell_type": "code",
   "execution_count": 7,
   "metadata": {
    "scrolled": true
   },
   "outputs": [
    {
     "name": "stdout",
     "output_type": "stream",
     "text": [
      "Epoch: 0 Loss: 69.31471805599453\n",
      "Epoch: 1 Loss: 69.31471805599453\n",
      "Epoch: 2 Loss: 69.31471805599453\n",
      "Epoch: 3 Loss: 69.31471805599453\n",
      "Epoch: 4 Loss: 69.31471805599453\n",
      "Epoch: 5 Loss: 69.31471805599453\n",
      "Epoch: 6 Loss: 69.31471805599453\n",
      "Epoch: 7 Loss: 69.31471805599453\n",
      "Epoch: 8 Loss: 69.31471805599453\n",
      "Epoch: 9 Loss: 69.31471805599453\n",
      "Epoch: 10 Loss: 69.31471805599453\n",
      "Epoch: 11 Loss: 69.31471805599453\n",
      "Epoch: 12 Loss: 69.31471805599453\n",
      "Epoch: 13 Loss: 69.31471805599453\n",
      "Epoch: 14 Loss: 69.31471805599453\n",
      "Epoch: 15 Loss: 69.31471805599453\n",
      "Epoch: 16 Loss: 69.31471805599453\n",
      "Epoch: 17 Loss: 69.31471805599453\n",
      "Epoch: 18 Loss: 69.31471805599453\n",
      "Epoch: 19 Loss: 67.92842369487465\n",
      "Epoch: 20 Loss: 65.84898215319481\n",
      "Epoch: 21 Loss: 61.690099069835135\n",
      "Epoch: 22 Loss: 58.91751034759535\n",
      "Epoch: 23 Loss: 57.53121598647546\n",
      "Epoch: 24 Loss: 45.054566736396445\n",
      "Epoch: 25 Loss: 38.81624211135694\n",
      "Epoch: 26 Loss: 33.964211847437326\n",
      "Epoch: 27 Loss: 25.64644568071797\n",
      "Epoch: 28 Loss: 24.953298500158027\n",
      "Epoch: 29 Loss: 26.339592861277918\n",
      "Epoch: 30 Loss: 21.487562597358306\n",
      "Epoch: 31 Loss: 22.180709777918246\n",
      "Epoch: 32 Loss: 20.10126823623841\n",
      "Epoch: 33 Loss: 17.32867951399863\n",
      "Epoch: 34 Loss: 16.635532333438686\n",
      "Epoch: 35 Loss: 15.94238515287874\n",
      "Epoch: 36 Loss: 15.249237972318795\n",
      "Epoch: 37 Loss: 13.862943611198904\n",
      "Epoch: 38 Loss: 14.55609079175885\n",
      "Epoch: 39 Loss: 14.55609079175885\n",
      "Epoch: 40 Loss: 13.169796430638959\n",
      "Epoch: 41 Loss: 12.476649250079014\n",
      "Epoch: 42 Loss: 9.704060527839234\n",
      "Epoch: 43 Loss: 8.317766166719343\n",
      "Epoch: 44 Loss: 8.317766166719343\n",
      "Epoch: 45 Loss: 6.931471805599452\n",
      "Epoch: 46 Loss: 7.624618986159398\n",
      "Epoch: 47 Loss: 6.931471805599452\n",
      "Epoch: 48 Loss: 6.931471805599452\n",
      "Epoch: 49 Loss: 7.624618986159398\n",
      "Epoch: 50 Loss: 6.931471805599452\n",
      "Epoch: 51 Loss: 7.624618986159398\n",
      "Epoch: 52 Loss: 7.624618986159398\n",
      "Epoch: 53 Loss: 6.931471805599452\n",
      "Epoch: 54 Loss: 7.624618986159398\n",
      "Epoch: 55 Loss: 7.624618986159398\n",
      "Epoch: 56 Loss: 6.238324625039508\n",
      "Epoch: 57 Loss: 4.1588830833596715\n",
      "Epoch: 58 Loss: 4.1588830833596715\n",
      "Epoch: 59 Loss: 2.772588722239781\n",
      "Epoch: 60 Loss: 3.465735902799726\n",
      "Epoch: 61 Loss: 3.465735902799726\n",
      "Epoch: 62 Loss: 1.3862943611198906\n",
      "Epoch: 63 Loss: 1.3862943611198906\n",
      "Epoch: 64 Loss: 1.3862943611198906\n",
      "Epoch: 65 Loss: 1.3862943611198906\n",
      "Epoch: 66 Loss: 1.3862943611198906\n",
      "Epoch: 67 Loss: 1.3862943611198906\n",
      "Epoch: 68 Loss: 1.3862943611198906\n",
      "Epoch: 69 Loss: 1.3862943611198906\n",
      "Epoch: 70 Loss: 1.3862943611198906\n",
      "Epoch: 71 Loss: 1.3862943611198906\n",
      "Epoch: 72 Loss: 1.3862943611198906\n",
      "Epoch: 73 Loss: 1.3862943611198906\n",
      "Epoch: 74 Loss: 1.3862943611198906\n",
      "Epoch: 75 Loss: 1.3862943611198906\n",
      "Epoch: 76 Loss: 1.3862943611198906\n",
      "Epoch: 77 Loss: 1.3862943611198906\n",
      "Epoch: 78 Loss: 1.3862943611198906\n",
      "Epoch: 79 Loss: -3.603664253168769e-28\n",
      "Epoch: 80 Loss: -3.603664253168769e-28\n",
      "Epoch: 81 Loss: -3.603664253168769e-28\n",
      "Epoch: 82 Loss: -3.603664253168769e-28\n",
      "Epoch: 83 Loss: -3.603664253168769e-28\n",
      "Epoch: 84 Loss: -3.603664253168769e-28\n",
      "Epoch: 85 Loss: -3.603664253168769e-28\n",
      "Epoch: 86 Loss: -3.603664253168769e-28\n",
      "Epoch: 87 Loss: -3.603664253168769e-28\n",
      "Epoch: 88 Loss: -3.603664253168769e-28\n",
      "Epoch: 89 Loss: -3.603664253168769e-28\n",
      "Epoch: 90 Loss: -3.603664253168769e-28\n",
      "Epoch: 91 Loss: -3.603664253168769e-28\n",
      "Epoch: 92 Loss: -3.603664253168769e-28\n",
      "Epoch: 93 Loss: -3.603664253168769e-28\n",
      "Epoch: 94 Loss: -3.603664253168769e-28\n",
      "Epoch: 95 Loss: -3.603664253168769e-28\n",
      "Epoch: 96 Loss: -3.603664253168769e-28\n",
      "Epoch: 97 Loss: -3.603664253168769e-28\n",
      "Epoch: 98 Loss: -3.603664253168769e-28\n",
      "Epoch: 99 Loss: -3.603664253168769e-28\n"
     ]
    }
   ],
   "source": [
    "cont_hop4.train(np.copy(train_data[:4]), epochs=100, verbose=True)"
   ]
  },
  {
   "cell_type": "code",
   "execution_count": 8,
   "metadata": {
    "scrolled": true
   },
   "outputs": [
    {
     "data": {
      "image/png": "[encoded data removed]",
      "text/plain": [
       "<matplotlib.figure.Figure at 0x7f125b26d588>"
      ]
     },
     "metadata": {},
     "output_type": "display_data"
    },
    {
     "data": {
      "image/png": "[encoded data removed]",
      "text/plain": [
       "<matplotlib.figure.Figure at 0x7f125b242048>"
      ]
     },
     "metadata": {},
     "output_type": "display_data"
    },
    {
     "data": {
      "image/png": "[encoded data removed]",
      "text/plain": [
       "<matplotlib.figure.Figure at 0x7f125b1a74a8>"
      ]
     },
     "metadata": {},
     "output_type": "display_data"
    },
    {
     "data": {
      "image/png": "[encoded data removed]",
      "text/plain": [
       "<matplotlib.figure.Figure at 0x7f125b113198>"
      ]
     },
     "metadata": {},
     "output_type": "display_data"
    }
   ],
   "source": [
    "for i in range(4):\n",
    "  plt.matshow(np.sign(cont_hop4.predict(train_data[i].flatten())).reshape(5,5))"
   ]
  },
  {
   "cell_type": "markdown",
   "metadata": {},
   "source": [
    "## Training for 5 patterns"
   ]
  },
  {
   "cell_type": "code",
   "execution_count": 10,
   "metadata": {
    "collapsed": true
   },
   "outputs": [],
   "source": [
    "cont_hop5 = ContinuousHopifield(25, print_format=(5,5), synchronous_update=False)"
   ]
  },
  {
   "cell_type": "code",
   "execution_count": 11,
   "metadata": {
    "collapsed": true
   },
   "outputs": [],
   "source": [
    "cont_hop5.train(train_data[:5], epochs=100)"
   ]
  },
  {
   "cell_type": "code",
   "execution_count": 12,
   "metadata": {
    "scrolled": true
   },
   "outputs": [
    {
     "data": {
      "image/png": "[encoded data removed]",
      "text/plain": [
       "<matplotlib.figure.Figure at 0x7f125b032240>"
      ]
     },
     "metadata": {},
     "output_type": "display_data"
    },
    {
     "data": {
      "image/png": "[encoded data removed]",
      "text/plain": [
       "<matplotlib.figure.Figure at 0x7f125afc5fd0>"
      ]
     },
     "metadata": {},
     "output_type": "display_data"
    },
    {
     "data": {
      "image/png": "[encoded data removed]",
      "text/plain": [
       "<matplotlib.figure.Figure at 0x7f125af480b8>"
      ]
     },
     "metadata": {},
     "output_type": "display_data"
    },
    {
     "data": {
      "image/png": "[encoded data removed]",
      "text/plain": [
       "<matplotlib.figure.Figure at 0x7f125ae8e940>"
      ]
     },
     "metadata": {},
     "output_type": "display_data"
    },
    {
     "data": {
      "image/png": "[encoded data removed]",
      "text/plain": [
       "<matplotlib.figure.Figure at 0x7f125ade1208>"
      ]
     },
     "metadata": {},
     "output_type": "display_data"
    }
   ],
   "source": [
    "for i in range(5):\n",
    "  plt.matshow(np.sign(cont_hop5.predict(train_data[i].flatten())).reshape(5,5))"
   ]
  },
  {
   "cell_type": "markdown",
   "metadata": {},
   "source": [
    "## Training for 6 patterns"
   ]
  },
  {
   "cell_type": "code",
   "execution_count": 13,
   "metadata": {
    "collapsed": true
   },
   "outputs": [],
   "source": [
    "cont_hop6 = ContinuousHopifield(25, print_format=(5,5), synchronous_update=False)"
   ]
  },
  {
   "cell_type": "code",
   "execution_count": 14,
   "metadata": {
    "collapsed": true
   },
   "outputs": [],
   "source": [
    "cont_hop6.train(train_data[:6], epochs=100)"
   ]
  },
  {
   "cell_type": "code",
   "execution_count": 17,
   "metadata": {
    "scrolled": true
   },
   "outputs": [
    {
     "data": {
      "image/png": "[encoded data removed]",
      "text/plain": [
       "<matplotlib.figure.Figure at 0x7f125b258588>"
      ]
     },
     "metadata": {},
     "output_type": "display_data"
    },
    {
     "data": {
      "image/png": "[encoded data removed]",
      "text/plain": [
       "<matplotlib.figure.Figure at 0x7f125a8c6198>"
      ]
     },
     "metadata": {},
     "output_type": "display_data"
    },
    {
     "data": {
      "image/png": "[encoded data removed]",
      "text/plain": [
       "<matplotlib.figure.Figure at 0x7f125a79c240>"
      ]
     },
     "metadata": {},
     "output_type": "display_data"
    },
    {
     "data": {
      "image/png": "[encoded data removed]",
      "text/plain": [
       "<matplotlib.figure.Figure at 0x7f125a551dd8>"
      ]
     },
     "metadata": {},
     "output_type": "display_data"
    },
    {
     "data": {
      "image/png": "[encoded data removed]",
      "text/plain": [
       "<matplotlib.figure.Figure at 0x7f125a097978>"
      ]
     },
     "metadata": {},
     "output_type": "display_data"
    },
    {
     "data": {
      "image/png": "[encoded data removed]",
      "text/plain": [
       "<matplotlib.figure.Figure at 0x7f125ac5f128>"
      ]
     },
     "metadata": {},
     "output_type": "display_data"
    }
   ],
   "source": [
    "for i in range(6):\n",
    "  plt.matshow(hopfield.signum(cont_hop6.predict(train_data[i].flatten())).reshape(5,5))"
   ]
  },
  {
   "cell_type": "markdown",
   "metadata": {},
   "source": [
    "As it can be seen above, the capacity of the continuous Hopfield network did not increase for the given training set. Alternative hypothesis can be made that the pattern *p6* can not be handled by the network. "
   ]
  },
  {
   "cell_type": "markdown",
   "metadata": {},
   "source": [
    "## Testing\n",
    "\n",
    "We choose the network trained with 4 patterns to see how does the convergence work here."
   ]
  },
  {
   "cell_type": "code",
   "execution_count": 22,
   "metadata": {},
   "outputs": [
    {
     "name": "stdout",
     "output_type": "stream",
     "text": [
      "Pattern no. 0\n"
     ]
    },
    {
     "data": {
      "image/png": "[encoded data removed]",
      "text/plain": [
       "<matplotlib.figure.Figure at 0x7f125a495320>"
      ]
     },
     "metadata": {},
     "output_type": "display_data"
    },
    {
     "name": "stdout",
     "output_type": "stream",
     "text": [
      "Pattern no. 1\n"
     ]
    },
    {
     "data": {
      "image/png": "[encoded data removed]",
      "text/plain": [
       "<matplotlib.figure.Figure at 0x7f125a08d860>"
      ]
     },
     "metadata": {},
     "output_type": "display_data"
    },
    {
     "name": "stdout",
     "output_type": "stream",
     "text": [
      "Pattern no. 2\n"
     ]
    },
    {
     "data": {
      "image/png": "[encoded data removed]",
      "text/plain": [
       "<matplotlib.figure.Figure at 0x7f125a4e7b38>"
      ]
     },
     "metadata": {},
     "output_type": "display_data"
    },
    {
     "name": "stdout",
     "output_type": "stream",
     "text": [
      "Pattern no. 3\n"
     ]
    },
    {
     "data": {
      "image/png": "[encoded data removed]",
      "text/plain": [
       "<matplotlib.figure.Figure at 0x7f125af17320>"
      ]
     },
     "metadata": {},
     "output_type": "display_data"
    },
    {
     "name": "stdout",
     "output_type": "stream",
     "text": [
      "Pattern no. 4\n"
     ]
    },
    {
     "data": {
      "image/png": "[encoded data removed]",
      "text/plain": [
       "<matplotlib.figure.Figure at 0x7f125ad1bdd8>"
      ]
     },
     "metadata": {},
     "output_type": "display_data"
    },
    {
     "name": "stdout",
     "output_type": "stream",
     "text": [
      "Pattern no. 5\n"
     ]
    },
    {
     "data": {
      "image/png": "[encoded data removed]",
      "text/plain": [
       "<matplotlib.figure.Figure at 0x7f125b0b9b38>"
      ]
     },
     "metadata": {},
     "output_type": "display_data"
    },
    {
     "name": "stdout",
     "output_type": "stream",
     "text": [
      "Pattern no. 6\n"
     ]
    },
    {
     "data": {
      "image/png": "[encoded data removed]",
      "text/plain": [
       "<matplotlib.figure.Figure at 0x7f125ace0160>"
      ]
     },
     "metadata": {},
     "output_type": "display_data"
    },
    {
     "name": "stdout",
     "output_type": "stream",
     "text": [
      "Pattern no. 7\n"
     ]
    },
    {
     "data": {
      "image/png": "[encoded data removed]",
      "text/plain": [
       "<matplotlib.figure.Figure at 0x7f125aeffda0>"
      ]
     },
     "metadata": {},
     "output_type": "display_data"
    },
    {
     "name": "stdout",
     "output_type": "stream",
     "text": [
      "Pattern no. 8\n"
     ]
    },
    {
     "data": {
      "image/png": "[encoded data removed]",
      "text/plain": [
       "<matplotlib.figure.Figure at 0x7f125a4c8160>"
      ]
     },
     "metadata": {},
     "output_type": "display_data"
    },
    {
     "name": "stdout",
     "output_type": "stream",
     "text": [
      "Pattern no. 9\n"
     ]
    },
    {
     "data": {
      "image/png": "[encoded data removed]",
      "text/plain": [
       "<matplotlib.figure.Figure at 0x7f125aa268d0>"
      ]
     },
     "metadata": {},
     "output_type": "display_data"
    },
    {
     "name": "stdout",
     "output_type": "stream",
     "text": [
      "Pattern no. 10\n"
     ]
    },
    {
     "data": {
      "image/png": "[encoded data removed]",
      "text/plain": [
       "<matplotlib.figure.Figure at 0x7f125a924438>"
      ]
     },
     "metadata": {},
     "output_type": "display_data"
    },
    {
     "name": "stdout",
     "output_type": "stream",
     "text": [
      "Pattern no. 11\n"
     ]
    },
    {
     "data": {
      "image/png": "[encoded data removed]",
      "text/plain": [
       "<matplotlib.figure.Figure at 0x7f125a387588>"
      ]
     },
     "metadata": {},
     "output_type": "display_data"
    },
    {
     "name": "stdout",
     "output_type": "stream",
     "text": [
      "Pattern no. 12\n"
     ]
    },
    {
     "data": {
      "image/png": "[encoded data removed]",
      "text/plain": [
       "<matplotlib.figure.Figure at 0x7f125a14bba8>"
      ]
     },
     "metadata": {},
     "output_type": "display_data"
    }
   ],
   "source": [
    "for i in range(len(test)):\n",
    "  print(f'Pattern no. {i}')\n",
    "  plt.matshow(hopfield.signum(cont_hop4.predict(test[i].flatten())).reshape(5,5))\n",
    "  plt.show()"
   ]
  },
  {
   "cell_type": "markdown",
   "metadata": {},
   "source": [
    "Patterns except *2, 8, 9, 10, 11, 12* converge in a single step. Others, interestingly depend on the update - it is done asynchronously with a random order. And can have either 1, 2 or no attractors, e.g. pattern no. 10."
   ]
  },
  {
   "cell_type": "code",
   "execution_count": 31,
   "metadata": {
    "scrolled": true
   },
   "outputs": [
    {
     "name": "stdout",
     "output_type": "stream",
     "text": [
      "Pattern no. 2\n"
     ]
    },
    {
     "data": {
      "image/png": "[encoded data removed]",
      "text/plain": [
       "<matplotlib.figure.Figure at 0x7f125afacf98>"
      ]
     },
     "metadata": {},
     "output_type": "display_data"
    },
    {
     "data": {
      "image/png": "[encoded data removed]",
      "text/plain": [
       "<matplotlib.figure.Figure at 0x7f125aed82b0>"
      ]
     },
     "metadata": {},
     "output_type": "display_data"
    },
    {
     "data": {
      "image/png": "[encoded data removed]",
      "text/plain": [
       "<matplotlib.figure.Figure at 0x7f1259fe4438>"
      ]
     },
     "metadata": {},
     "output_type": "display_data"
    },
    {
     "data": {
      "image/png": "[encoded data removed]",
      "text/plain": [
       "<matplotlib.figure.Figure at 0x7f125a14bc50>"
      ]
     },
     "metadata": {},
     "output_type": "display_data"
    },
    {
     "name": "stdout",
     "output_type": "stream",
     "text": [
      "******************************\n",
      "Pattern no. 8\n"
     ]
    },
    {
     "data": {
      "image/png": "[encoded data removed]",
      "text/plain": [
       "<matplotlib.figure.Figure at 0x7f125a8b0828>"
      ]
     },
     "metadata": {},
     "output_type": "display_data"
    },
    {
     "data": {
      "image/png": "[encoded data removed]",
      "text/plain": [
       "<matplotlib.figure.Figure at 0x7f125a707940>"
      ]
     },
     "metadata": {},
     "output_type": "display_data"
    },
    {
     "data": {
      "image/png": "[encoded data removed]",
      "text/plain": [
       "<matplotlib.figure.Figure at 0x7f125a1ee860>"
      ]
     },
     "metadata": {},
     "output_type": "display_data"
    },
    {
     "data": {
      "image/png": "[encoded data removed]",
      "text/plain": [
       "<matplotlib.figure.Figure at 0x7f125a80ec18>"
      ]
     },
     "metadata": {},
     "output_type": "display_data"
    },
    {
     "name": "stdout",
     "output_type": "stream",
     "text": [
      "******************************\n",
      "Pattern no. 9\n"
     ]
    },
    {
     "data": {
      "image/png": "[encoded data removed]",
      "text/plain": [
       "<matplotlib.figure.Figure at 0x7f125a884898>"
      ]
     },
     "metadata": {},
     "output_type": "display_data"
    },
    {
     "data": {
      "image/png": "[encoded data removed]",
      "text/plain": [
       "<matplotlib.figure.Figure at 0x7f125afa4588>"
      ]
     },
     "metadata": {},
     "output_type": "display_data"
    },
    {
     "data": {
      "image/png": "[encoded data removed]",
      "text/plain": [
       "<matplotlib.figure.Figure at 0x7f125ab47c50>"
      ]
     },
     "metadata": {},
     "output_type": "display_data"
    },
    {
     "data": {
      "image/png": "[encoded data removed]",
      "text/plain": [
       "<matplotlib.figure.Figure at 0x7f125ad90e80>"
      ]
     },
     "metadata": {},
     "output_type": "display_data"
    },
    {
     "name": "stdout",
     "output_type": "stream",
     "text": [
      "******************************\n",
      "Pattern no. 10\n"
     ]
    },
    {
     "data": {
      "image/png": "[encoded data removed]",
      "text/plain": [
       "<matplotlib.figure.Figure at 0x7f125b160e80>"
      ]
     },
     "metadata": {},
     "output_type": "display_data"
    },
    {
     "data": {
      "image/png": "[encoded data removed]",
      "text/plain": [
       "<matplotlib.figure.Figure at 0x7f125a6f8e80>"
      ]
     },
     "metadata": {},
     "output_type": "display_data"
    },
    {
     "data": {
      "image/png": "[encoded data removed]",
      "text/plain": [
       "<matplotlib.figure.Figure at 0x7f125aac6940>"
      ]
     },
     "metadata": {},
     "output_type": "display_data"
    },
    {
     "data": {
      "image/png": "[encoded data removed]",
      "text/plain": [
       "<matplotlib.figure.Figure at 0x7f125a31e668>"
      ]
     },
     "metadata": {},
     "output_type": "display_data"
    },
    {
     "name": "stdout",
     "output_type": "stream",
     "text": [
      "******************************\n",
      "Pattern no. 11\n"
     ]
    },
    {
     "data": {
      "image/png": "[encoded data removed]",
      "text/plain": [
       "<matplotlib.figure.Figure at 0x7f125a26b3c8>"
      ]
     },
     "metadata": {},
     "output_type": "display_data"
    },
    {
     "data": {
      "image/png": "[encoded data removed]",
      "text/plain": [
       "<matplotlib.figure.Figure at 0x7f125a0799e8>"
      ]
     },
     "metadata": {},
     "output_type": "display_data"
    },
    {
     "data": {
      "image/png": "[encoded data removed]",
      "text/plain": [
       "<matplotlib.figure.Figure at 0x7f125a6309b0>"
      ]
     },
     "metadata": {},
     "output_type": "display_data"
    },
    {
     "data": {
      "image/png": "[encoded data removed]",
      "text/plain": [
       "<matplotlib.figure.Figure at 0x7f125abe2e48>"
      ]
     },
     "metadata": {},
     "output_type": "display_data"
    },
    {
     "name": "stdout",
     "output_type": "stream",
     "text": [
      "******************************\n",
      "Pattern no. 12\n"
     ]
    },
    {
     "data": {
      "image/png": "[encoded data removed]",
      "text/plain": [
       "<matplotlib.figure.Figure at 0x7f125ac58d68>"
      ]
     },
     "metadata": {},
     "output_type": "display_data"
    },
    {
     "data": {
      "image/png": "[encoded data removed]",
      "text/plain": [
       "<matplotlib.figure.Figure at 0x7f125a0d8a90>"
      ]
     },
     "metadata": {},
     "output_type": "display_data"
    },
    {
     "data": {
      "image/png": "[encoded data removed]",
      "text/plain": [
       "<matplotlib.figure.Figure at 0x7f125b111cc0>"
      ]
     },
     "metadata": {},
     "output_type": "display_data"
    },
    {
     "data": {
      "image/png": "[encoded data removed]",
      "text/plain": [
       "<matplotlib.figure.Figure at 0x7f125a51fcf8>"
      ]
     },
     "metadata": {},
     "output_type": "display_data"
    },
    {
     "name": "stdout",
     "output_type": "stream",
     "text": [
      "******************************\n"
     ]
    }
   ],
   "source": [
    "for i in [2, 8, 9, 10, 11, 12]:\n",
    "  print(f'Pattern no. {i}')\n",
    "  plt.matshow(hopfield.signum(cont_hop4.predict(test[i].flatten())).reshape(5,5))\n",
    "  plt.show()\n",
    "  for j in range(3):\n",
    "    plt.matshow(hopfield.signum(cont_hop4.predict()).reshape(5,5))\n",
    "    plt.show()\n",
    "  print('*'*30)"
   ]
  },
  {
   "cell_type": "code",
   "execution_count": null,
   "metadata": {
    "collapsed": true
   },
   "outputs": [],
   "source": []
  }
 ],
 "metadata": {
  "kernelspec": {
   "display_name": "Python 3",
   "language": "python",
   "name": "python3"
  },
  "language_info": {
   "codemirror_mode": {
    "name": "ipython",
    "version": 3
   },
   "file_extension": ".py",
   "mimetype": "text/x-python",
   "name": "python",
   "nbconvert_exporter": "python",
   "pygments_lexer": "ipython3",
   "version": "3.6.2"
  }
 },
 "nbformat": 4,
 "nbformat_minor": 2
}
