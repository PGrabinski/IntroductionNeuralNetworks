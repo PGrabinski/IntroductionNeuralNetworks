{
 "cells": [
  {
   "cell_type": "markdown",
   "metadata": {},
   "source": [
    "# Neural Networks: List 2"
   ]
  },
  {
   "cell_type": "code",
   "execution_count": 1,
   "metadata": {},
   "outputs": [],
   "source": [
    "import numpy as np\n",
    "import matplotlib.pyplot as plt\n",
    "%matplotlib inline\n",
    "import pandas as pd\n",
    "from scipy.optimize import minimize\n",
    "\n",
    "import sys\n",
    "sys.path.insert(0, '../')\n",
    "from continuous_hopfield import ContinuousHopifield\n",
    "import hopfield"
   ]
  },
  {
   "cell_type": "markdown",
   "metadata": {
    "colab_type": "text",
    "id": "G1dN1chxaj8e"
   },
   "source": [
    "## Dataset"
   ]
  },
  {
   "cell_type": "markdown",
   "metadata": {
    "colab_type": "text",
    "id": "B9ziqocicDV1"
   },
   "source": [
    "### Loading"
   ]
  },
  {
   "cell_type": "code",
   "execution_count": 2,
   "metadata": {
    "colab": {},
    "colab_type": "code",
    "collapsed": true,
    "id": "OeqqWJ9bakhX"
   },
   "outputs": [],
   "source": [
    "a=np.array([[-1,-1,-1,-1,1],[1,-1,1,1,-1],[1,-1,1,1,-1],[1,-1,1,1,-1],[1,-1,-1,-1,1]])\n",
    "b=np.array([[-1,-1,-1,-1,-1],[1,1,1,-1,1],[1,1,1,-1,1],[-1,1,1,-1,1],[-1,-1,-1,1,1]])\n",
    "c=np.array([[1,-1,-1,-1,-1],[-1,1,1,1,1],[-1,1,1,1,1],[-1,1,1,1,1],[1,-1,-1,-1,-1]])\n",
    "d=np.array([[-1,1,1,1,-1],[-1,-1,1,-1,-1],[-1,1,-1,1,-1],[-1,1,1,1,-1],[-1,1,1,1,-1]])\n",
    "p5=np.array([[1,-1,1,-1,1],[-1,1,-1,1,-1],[1,-1,1,-1,1],[-1,1,-1,1,-1],[1,-1,1,-1,1]])\n",
    "p6=np.array([[1,-1,-1,-1,1],[-1,1,1,1,1],[1,-1,-1,-1,1],[1,1,1,1,-1],[1,-1,-1,-1,1]])\n",
    "train_data = np.array([a, b, c, d, p5, p6])\n",
    "t1=np.array([[-1,-1,-1,-1,1],[1,-1,1,1,-1],[1,-1,1,1,-1],[-1,-1,1,1,-1],[1,-1,-1,-1,1]])\n",
    "t2=np.array([[-1,-1,-1,-1,1],[1,1,1,-1,1],[1,1,1,-1,1],[-1,1,1,-1,1],[-1,1,-1,1,1]])\n",
    "t3=np.array([[-1,-1,-1,-1,1],[1,1,1,-1,1],[1,-1,1,-1,1],[1,1,1,1,1],[-1,-1,-1,1,1]])\n",
    "t4=np.array([[-1,-1,-1,-1,-1],[-1,1,1,1,-1],[-1,1,-1,1,1],[-1,1,1,-1,1],[1,-1,-1,-1,-1]])\n",
    "t5=np.array([[-1,1,1,1,-1],[-1,-1,1,-1,-1],[-1,1,-1,1,-1],[-1,1,1,1,-1],[-1,1,1,1,-1]])\n",
    "t6=np.array([[1,-1,1,1,-1],[1,-1,1,-1,-1],[-1,1,-1,1,1],[-1,1,1,1,-1],[-1,1,1,1,-1]])\n",
    "t7=np.array([[-1,-1,-1,1,-1],[1,-1,1,1,-1],[1,-1,1,-1,-1],[-1,-1,1,1,-1],[1,1,1,-1,1]])\n",
    "t8=np.array([[-1,1,1,1,-1],[-1,-1,1,1,-1],[1,1,-1,-1,1],[-1,1,1,1,-1],[-1,1,1,1,1]])\n",
    "t9=np.array([[-1,-1,-1,-1,1],[1,1,1,1,1],[-1,1,1,1,1],[-1,1,-1,-1,1],[-1,-1,1,1,1]])\n",
    "t10=np.array([[-1,-1,1,1,-1],[-1,1,1,1,1],[1,1,1,-1,1],[1,1,1,1,1],[1,1,-1,-1,1]])\n",
    "t11=np.array([[-1,-1,1,1,1],[1,1,1,-1,-1],[-1,1,-1,1,-1],[-1,1,-1,-1,1],[-1,1,1,1,-1]])\n",
    "t12=np.array([[1,-1,1,-1,1],[-1,1,1,1,-1],[1,-1,1,1,1],[-1,-1,-1,1,1],[1,-1,-1,1,-1]])\n",
    "t13=np.array([[1,1,1,1,-1],[1,-1,1,-1,1],[1,1,1,1,-1],[-1,-1,1,1,-1],[-1,1,1,-1,1]])\n",
    "test = np.array([t1, t2, t3, t4, t5, t6, t7, t8, t9, t10, t11, t12, t13])\n",
    "full = np.array([a, b, c, d, p5, p6,t1, t2, t3, t4, t5, t6, t7, t8, t9, t10, t11, t12, t13])"
   ]
  },
  {
   "cell_type": "code",
   "execution_count": 3,
   "metadata": {},
   "outputs": [
    {
     "data": {
      "text/plain": [
       "<matplotlib.image.AxesImage at 0x7f91a4de2080>"
      ]
     },
     "execution_count": 3,
     "metadata": {},
     "output_type": "execute_result"
    },
    {
     "data": {
      "image/png": "[encoded data removed]",
      "text/plain": [
       "<matplotlib.figure.Figure at 0x7f91ac8d6fd0>"
      ]
     },
     "metadata": {},
     "output_type": "display_data"
    }
   ],
   "source": [
    "plt.matshow(train_data[0])"
   ]
  },
  {
   "cell_type": "markdown",
   "metadata": {},
   "source": [
    "# Problem 4\n",
    "\n",
    "Implement the continuous Hopfield network."
   ]
  },
  {
   "cell_type": "markdown",
   "metadata": {},
   "source": [
    "**Riddle to solve:** Unless, I am mistaken, the derivative of the loss function should be defined as:\n",
    "$$\\frac{\\partial G}{\\partial w_{km}}=-\\frac{1}{2}\\sum_{\\mu=1}^N(\\xi^\\mu_k-S^\\mu_k)\\xi^\\mu_m$$\n",
    "where $S^\\mu_k=\\tanh(\\frac{1}{2}\\sum_{j=1}^{N_b}w_{kj}\\xi^\\mu_j)$.\n",
    "\n",
    "But here, in the implementation, the problem is solved by the following weight change function:\n",
    "$$\\frac{\\partial G}{\\partial w_{km}}=-\\frac{1}{2}\\sum_{\\mu=1}^N(\\xi^\\mu_k+S^\\mu_k)\\xi^\\mu_m.$$\n",
    "And I have no clue why it is so. Either, I have made a mistake in the derivations or there is some mistake in the code changing the signs somewhere."
   ]
  },
  {
   "cell_type": "markdown",
   "metadata": {},
   "source": [
    "## Training for 4 patterns"
   ]
  },
  {
   "cell_type": "code",
   "execution_count": 4,
   "metadata": {
    "collapsed": true
   },
   "outputs": [],
   "source": [
    "cont_hop4 = ContinuousHopifield(25, print_format=(5,5), synchronous_update=False)"
   ]
  },
  {
   "cell_type": "code",
   "execution_count": 5,
   "metadata": {
    "scrolled": true
   },
   "outputs": [
    {
     "name": "stdout",
     "output_type": "stream",
     "text": [
      "Epoch: 0 Loss: 69.31471805599453\n",
      "Epoch: 1 Loss: 69.31471805599453\n",
      "Epoch: 2 Loss: 69.31471805599453\n",
      "Epoch: 3 Loss: 69.31471805599453\n",
      "Epoch: 4 Loss: 69.31471805599453\n",
      "Epoch: 5 Loss: 69.31471805599453\n",
      "Epoch: 6 Loss: 69.31471805599453\n",
      "Epoch: 7 Loss: 69.31471805599453\n",
      "Epoch: 8 Loss: 69.31471805599453\n",
      "Epoch: 9 Loss: 69.31471805599453\n",
      "Epoch: 10 Loss: 69.31471805599453\n",
      "Epoch: 11 Loss: 69.31471805599453\n",
      "Epoch: 12 Loss: 69.31471805599453\n",
      "Epoch: 13 Loss: 69.31471805599453\n",
      "Epoch: 14 Loss: 69.31471805599453\n",
      "Epoch: 15 Loss: 69.31471805599453\n",
      "Epoch: 16 Loss: 69.31471805599453\n",
      "Epoch: 17 Loss: 69.31471805599453\n",
      "Epoch: 18 Loss: 69.31471805599453\n",
      "Epoch: 19 Loss: 68.6215708754346\n",
      "Epoch: 20 Loss: 63.07639343095503\n",
      "Epoch: 21 Loss: 63.07639343095503\n",
      "Epoch: 22 Loss: 57.53121598647546\n",
      "Epoch: 23 Loss: 51.292891361435956\n",
      "Epoch: 24 Loss: 42.97512519471662\n",
      "Epoch: 25 Loss: 36.04365338911715\n",
      "Epoch: 26 Loss: 25.64644568071797\n",
      "Epoch: 27 Loss: 24.953298500158027\n",
      "Epoch: 28 Loss: 24.953298500158027\n",
      "Epoch: 29 Loss: 23.567004139038136\n",
      "Epoch: 30 Loss: 21.487562597358306\n",
      "Epoch: 31 Loss: 22.180709777918246\n",
      "Epoch: 32 Loss: 18.714973875118524\n",
      "Epoch: 33 Loss: 18.714973875118524\n",
      "Epoch: 34 Loss: 16.635532333438686\n",
      "Epoch: 35 Loss: 16.635532333438686\n",
      "Epoch: 36 Loss: 15.249237972318795\n",
      "Epoch: 37 Loss: 13.169796430638959\n",
      "Epoch: 38 Loss: 15.249237972318795\n",
      "Epoch: 39 Loss: 13.862943611198904\n",
      "Epoch: 40 Loss: 9.704060527839234\n",
      "Epoch: 41 Loss: 12.476649250079014\n",
      "Epoch: 42 Loss: 9.010913347279288\n",
      "Epoch: 43 Loss: 8.317766166719343\n",
      "Epoch: 44 Loss: 8.317766166719343\n",
      "Epoch: 45 Loss: 6.931471805599452\n",
      "Epoch: 46 Loss: 7.624618986159398\n",
      "Epoch: 47 Loss: 7.624618986159398\n",
      "Epoch: 48 Loss: 7.624618986159398\n",
      "Epoch: 49 Loss: 8.317766166719343\n",
      "Epoch: 50 Loss: 7.624618986159398\n",
      "Epoch: 51 Loss: 6.238324625039507\n",
      "Epoch: 52 Loss: 7.624618986159398\n",
      "Epoch: 53 Loss: 6.931471805599452\n",
      "Epoch: 54 Loss: 7.624618986159398\n",
      "Epoch: 55 Loss: 7.624618986159398\n",
      "Epoch: 56 Loss: 4.1588830833596715\n",
      "Epoch: 57 Loss: 4.1588830833596715\n",
      "Epoch: 58 Loss: 2.772588722239781\n",
      "Epoch: 59 Loss: 3.465735902799726\n",
      "Epoch: 60 Loss: 1.3862943611198906\n",
      "Epoch: 61 Loss: 1.3862943611198906\n",
      "Epoch: 62 Loss: 1.3862943611198906\n",
      "Epoch: 63 Loss: 1.3862943611198906\n",
      "Epoch: 64 Loss: 1.3862943611198906\n",
      "Epoch: 65 Loss: 1.3862943611198906\n",
      "Epoch: 66 Loss: 1.3862943611198906\n",
      "Epoch: 67 Loss: 1.3862943611198906\n",
      "Epoch: 68 Loss: 1.3862943611198906\n",
      "Epoch: 69 Loss: 1.3862943611198906\n",
      "Epoch: 70 Loss: 1.3862943611198906\n",
      "Epoch: 71 Loss: 1.3862943611198906\n",
      "Epoch: 72 Loss: 1.3862943611198906\n",
      "Epoch: 73 Loss: 1.3862943611198906\n",
      "Epoch: 74 Loss: 1.3862943611198906\n",
      "Epoch: 75 Loss: 1.3862943611198906\n",
      "Epoch: 76 Loss: 1.3862943611198906\n",
      "Epoch: 77 Loss: 1.3862943611198906\n",
      "Epoch: 78 Loss: 1.3862943611198906\n",
      "Epoch: 79 Loss: 1.3862943611198906\n",
      "Epoch: 80 Loss: -3.603664253168769e-28\n",
      "Epoch: 81 Loss: -3.603664253168769e-28\n",
      "Epoch: 82 Loss: -3.603664253168769e-28\n",
      "Epoch: 83 Loss: -3.603664253168769e-28\n",
      "Epoch: 84 Loss: -3.603664253168769e-28\n",
      "Epoch: 85 Loss: -3.603664253168769e-28\n",
      "Epoch: 86 Loss: -3.603664253168769e-28\n",
      "Epoch: 87 Loss: -3.603664253168769e-28\n",
      "Epoch: 88 Loss: -3.603664253168769e-28\n",
      "Epoch: 89 Loss: -3.603664253168769e-28\n",
      "Epoch: 90 Loss: -3.603664253168769e-28\n",
      "Epoch: 91 Loss: -3.603664253168769e-28\n",
      "Epoch: 92 Loss: -3.603664253168769e-28\n",
      "Epoch: 93 Loss: -3.603664253168769e-28\n",
      "Epoch: 94 Loss: -3.603664253168769e-28\n",
      "Epoch: 95 Loss: -3.603664253168769e-28\n",
      "Epoch: 96 Loss: -3.603664253168769e-28\n",
      "Epoch: 97 Loss: -3.603664253168769e-28\n",
      "Epoch: 98 Loss: -3.603664253168769e-28\n",
      "Epoch: 99 Loss: -3.603664253168769e-28\n"
     ]
    }
   ],
   "source": [
    "cont_hop4.train(np.copy(train_data[:4]), epochs=100, verbose=True)"
   ]
  },
  {
   "cell_type": "code",
   "execution_count": 6,
   "metadata": {
    "scrolled": true
   },
   "outputs": [
    {
     "data": {
      "image/png": "[encoded data removed]",
      "text/plain": [
       "<matplotlib.figure.Figure at 0x7f91a4de2a20>"
      ]
     },
     "metadata": {},
     "output_type": "display_data"
    },
    {
     "data": {
      "image/png": "[encoded data removed]",
      "text/plain": [
       "<matplotlib.figure.Figure at 0x7f91a4d57160>"
      ]
     },
     "metadata": {},
     "output_type": "display_data"
    },
    {
     "data": {
      "image/png": "[encoded data removed]",
      "text/plain": [
       "<matplotlib.figure.Figure at 0x7f91a4cce978>"
      ]
     },
     "metadata": {},
     "output_type": "display_data"
    },
    {
     "data": {
      "image/png": "[encoded data removed]",
      "text/plain": [
       "<matplotlib.figure.Figure at 0x7f91a4c37e48>"
      ]
     },
     "metadata": {},
     "output_type": "display_data"
    }
   ],
   "source": [
    "for i in range(4):\n",
    "  plt.matshow(np.sign(cont_hop4.predict(train_data[i].flatten())).reshape(5,5))"
   ]
  },
  {
   "cell_type": "markdown",
   "metadata": {},
   "source": [
    "## Training for 5 patterns"
   ]
  },
  {
   "cell_type": "code",
   "execution_count": 7,
   "metadata": {
    "collapsed": true
   },
   "outputs": [],
   "source": [
    "cont_hop5 = ContinuousHopifield(25, print_format=(5,5), synchronous_update=False)"
   ]
  },
  {
   "cell_type": "code",
   "execution_count": 8,
   "metadata": {
    "collapsed": true
   },
   "outputs": [],
   "source": [
    "cont_hop5.train(train_data[:5], epochs=100)"
   ]
  },
  {
   "cell_type": "code",
   "execution_count": 9,
   "metadata": {
    "scrolled": true
   },
   "outputs": [
    {
     "data": {
      "image/png": "[encoded data removed]",
      "text/plain": [
       "<matplotlib.figure.Figure at 0x7f91a4b7f278>"
      ]
     },
     "metadata": {},
     "output_type": "display_data"
    },
    {
     "data": {
      "image/png": "[encoded data removed]",
      "text/plain": [
       "<matplotlib.figure.Figure at 0x7f91a4ab3d68>"
      ]
     },
     "metadata": {},
     "output_type": "display_data"
    },
    {
     "data": {
      "image/png": "[encoded data removed]",
      "text/plain": [
       "<matplotlib.figure.Figure at 0x7f91a4a2fe10>"
      ]
     },
     "metadata": {},
     "output_type": "display_data"
    },
    {
     "data": {
      "image/png": "[encoded data removed]",
      "text/plain": [
       "<matplotlib.figure.Figure at 0x7f91a4a01518>"
      ]
     },
     "metadata": {},
     "output_type": "display_data"
    },
    {
     "data": {
      "image/png": "[encoded data removed]",
      "text/plain": [
       "<matplotlib.figure.Figure at 0x7f91a4948f60>"
      ]
     },
     "metadata": {},
     "output_type": "display_data"
    }
   ],
   "source": [
    "for i in range(5):\n",
    "  plt.matshow(np.sign(cont_hop5.predict(train_data[i].flatten())).reshape(5,5))"
   ]
  },
  {
   "cell_type": "markdown",
   "metadata": {},
   "source": [
    "## Training for 6 patterns"
   ]
  },
  {
   "cell_type": "code",
   "execution_count": 10,
   "metadata": {
    "collapsed": true
   },
   "outputs": [],
   "source": [
    "cont_hop6 = ContinuousHopifield(25, print_format=(5,5), synchronous_update=False)"
   ]
  },
  {
   "cell_type": "code",
   "execution_count": 11,
   "metadata": {
    "collapsed": true
   },
   "outputs": [],
   "source": [
    "cont_hop6.train(train_data[:6], epochs=100)"
   ]
  },
  {
   "cell_type": "code",
   "execution_count": 12,
   "metadata": {
    "scrolled": true
   },
   "outputs": [
    {
     "data": {
      "image/png": "[encoded data removed]",
      "text/plain": [
       "<matplotlib.figure.Figure at 0x7f91a4c141d0>"
      ]
     },
     "metadata": {},
     "output_type": "display_data"
    },
    {
     "data": {
      "image/png": "[encoded data removed]",
      "text/plain": [
       "<matplotlib.figure.Figure at 0x7f91a4b7fba8>"
      ]
     },
     "metadata": {},
     "output_type": "display_data"
    },
    {
     "data": {
      "image/png": "[encoded data removed]",
      "text/plain": [
       "<matplotlib.figure.Figure at 0x7f91a4b4ddd8>"
      ]
     },
     "metadata": {},
     "output_type": "display_data"
    },
    {
     "data": {
      "image/png": "[encoded data removed]",
      "text/plain": [
       "<matplotlib.figure.Figure at 0x7f91a4d94400>"
      ]
     },
     "metadata": {},
     "output_type": "display_data"
    },
    {
     "data": {
      "image/png": "[encoded data removed]",
      "text/plain": [
       "<matplotlib.figure.Figure at 0x7f91a4cea828>"
      ]
     },
     "metadata": {},
     "output_type": "display_data"
    },
    {
     "data": {
      "image/png": "[encoded data removed]",
      "text/plain": [
       "<matplotlib.figure.Figure at 0x7f91a487aac8>"
      ]
     },
     "metadata": {},
     "output_type": "display_data"
    }
   ],
   "source": [
    "for i in range(6):\n",
    "  plt.matshow(hopfield.signum(cont_hop6.predict(train_data[i].flatten())).reshape(5,5))"
   ]
  },
  {
   "cell_type": "markdown",
   "metadata": {},
   "source": [
    "As it can be seen above, the capacity of the continuous Hopfield network did not increase for the given training set. Alternative hypothesis can be made that the pattern *p6* can not be handled by the network. "
   ]
  },
  {
   "cell_type": "markdown",
   "metadata": {},
   "source": [
    "## Testing\n",
    "\n",
    "We choose the network trained with 4 patterns to see how does the convergence work here."
   ]
  },
  {
   "cell_type": "code",
   "execution_count": 13,
   "metadata": {},
   "outputs": [
    {
     "name": "stdout",
     "output_type": "stream",
     "text": [
      "Pattern no. 0\n"
     ]
    },
    {
     "data": {
      "image/png": "[encoded data removed]",
      "text/plain": [
       "<matplotlib.figure.Figure at 0x7f91d823d240>"
      ]
     },
     "metadata": {},
     "output_type": "display_data"
    },
    {
     "name": "stdout",
     "output_type": "stream",
     "text": [
      "Pattern no. 1\n"
     ]
    },
    {
     "data": {
      "image/png": "[encoded data removed]",
      "text/plain": [
       "<matplotlib.figure.Figure at 0x7f91a47645f8>"
      ]
     },
     "metadata": {},
     "output_type": "display_data"
    },
    {
     "name": "stdout",
     "output_type": "stream",
     "text": [
      "Pattern no. 2\n"
     ]
    },
    {
     "data": {
      "image/png": "[encoded data removed]",
      "text/plain": [
       "<matplotlib.figure.Figure at 0x7f91a46674e0>"
      ]
     },
     "metadata": {},
     "output_type": "display_data"
    },
    {
     "name": "stdout",
     "output_type": "stream",
     "text": [
      "Pattern no. 3\n"
     ]
    },
    {
     "data": {
      "image/png": "[encoded data removed]",
      "text/plain": [
       "<matplotlib.figure.Figure at 0x7f91a4576518>"
      ]
     },
     "metadata": {},
     "output_type": "display_data"
    },
    {
     "name": "stdout",
     "output_type": "stream",
     "text": [
      "Pattern no. 4\n"
     ]
    },
    {
     "data": {
      "image/png": "[encoded data removed]",
      "text/plain": [
       "<matplotlib.figure.Figure at 0x7f91a44fe518>"
      ]
     },
     "metadata": {},
     "output_type": "display_data"
    },
    {
     "name": "stdout",
     "output_type": "stream",
     "text": [
      "Pattern no. 5\n"
     ]
    },
    {
     "data": {
      "image/png": "[encoded data removed]",
      "text/plain": [
       "<matplotlib.figure.Figure at 0x7f91a448e5f8>"
      ]
     },
     "metadata": {},
     "output_type": "display_data"
    },
    {
     "name": "stdout",
     "output_type": "stream",
     "text": [
      "Pattern no. 6\n"
     ]
    },
    {
     "data": {
      "image/png": "[encoded data removed]",
      "text/plain": [
       "<matplotlib.figure.Figure at 0x7f91d92b2cc0>"
      ]
     },
     "metadata": {},
     "output_type": "display_data"
    },
    {
     "name": "stdout",
     "output_type": "stream",
     "text": [
      "Pattern no. 7\n"
     ]
    },
    {
     "data": {
      "image/png": "[encoded data removed]",
      "text/plain": [
       "<matplotlib.figure.Figure at 0x7f91a4533438>"
      ]
     },
     "metadata": {},
     "output_type": "display_data"
    },
    {
     "name": "stdout",
     "output_type": "stream",
     "text": [
      "Pattern no. 8\n"
     ]
    },
    {
     "data": {
      "image/png": "[encoded data removed]",
      "text/plain": [
       "<matplotlib.figure.Figure at 0x7f91a45b6b70>"
      ]
     },
     "metadata": {},
     "output_type": "display_data"
    },
    {
     "name": "stdout",
     "output_type": "stream",
     "text": [
      "Pattern no. 9\n"
     ]
    },
    {
     "data": {
      "image/png": "[encoded data removed]",
      "text/plain": [
       "<matplotlib.figure.Figure at 0x7f91a447c780>"
      ]
     },
     "metadata": {},
     "output_type": "display_data"
    },
    {
     "name": "stdout",
     "output_type": "stream",
     "text": [
      "Pattern no. 10\n"
     ]
    },
    {
     "data": {
      "image/png": "[encoded data removed]",
      "text/plain": [
       "<matplotlib.figure.Figure at 0x7f91a4567390>"
      ]
     },
     "metadata": {},
     "output_type": "display_data"
    },
    {
     "name": "stdout",
     "output_type": "stream",
     "text": [
      "Pattern no. 11\n"
     ]
    },
    {
     "data": {
      "image/png": "[encoded data removed]",
      "text/plain": [
       "<matplotlib.figure.Figure at 0x7f91a46f9f60>"
      ]
     },
     "metadata": {},
     "output_type": "display_data"
    },
    {
     "name": "stdout",
     "output_type": "stream",
     "text": [
      "Pattern no. 12\n"
     ]
    },
    {
     "data": {
      "image/png": "[encoded data removed]",
      "text/plain": [
       "<matplotlib.figure.Figure at 0x7f91a465b470>"
      ]
     },
     "metadata": {},
     "output_type": "display_data"
    }
   ],
   "source": [
    "for i in range(len(test)):\n",
    "  print(f'Pattern no. {i}')\n",
    "  plt.matshow(hopfield.signum(cont_hop4.predict(test[i].flatten())).reshape(5,5))\n",
    "  plt.show()"
   ]
  },
  {
   "cell_type": "markdown",
   "metadata": {},
   "source": [
    "Patterns except *2, 8, 9, 10, 11, 12* converge in a single step. Others, interestingly depend on the update - it is done asynchronously with a random order. And can have either 1, 2 or no attractors, e.g. pattern no. 10."
   ]
  },
  {
   "cell_type": "code",
   "execution_count": 14,
   "metadata": {
    "scrolled": true
   },
   "outputs": [
    {
     "name": "stdout",
     "output_type": "stream",
     "text": [
      "Pattern no. 2\n"
     ]
    },
    {
     "data": {
      "image/png": "[encoded data removed]",
      "text/plain": [
       "<matplotlib.figure.Figure at 0x7f91a4b7e1d0>"
      ]
     },
     "metadata": {},
     "output_type": "display_data"
    },
    {
     "data": {
      "image/png": "[encoded data removed]",
      "text/plain": [
       "<matplotlib.figure.Figure at 0x7f91a4595ba8>"
      ]
     },
     "metadata": {},
     "output_type": "display_data"
    },
    {
     "data": {
      "image/png": "[encoded data removed]",
      "text/plain": [
       "<matplotlib.figure.Figure at 0x7f91a4659748>"
      ]
     },
     "metadata": {},
     "output_type": "display_data"
    },
    {
     "data": {
      "image/png": "[encoded data removed]",
      "text/plain": [
       "<matplotlib.figure.Figure at 0x7f91a45fc5c0>"
      ]
     },
     "metadata": {},
     "output_type": "display_data"
    },
    {
     "name": "stdout",
     "output_type": "stream",
     "text": [
      "******************************\n",
      "Pattern no. 8\n"
     ]
    },
    {
     "data": {
      "image/png": "[encoded data removed]",
      "text/plain": [
       "<matplotlib.figure.Figure at 0x7f91a4ba9c88>"
      ]
     },
     "metadata": {},
     "output_type": "display_data"
    },
    {
     "data": {
      "image/png": "[encoded data removed]",
      "text/plain": [
       "<matplotlib.figure.Figure at 0x7f91a466df98>"
      ]
     },
     "metadata": {},
     "output_type": "display_data"
    },
    {
     "data": {
      "image/png": "[encoded data removed]",
      "text/plain": [
       "<matplotlib.figure.Figure at 0x7f91a49a6cf8>"
      ]
     },
     "metadata": {},
     "output_type": "display_data"
    },
    {
     "data": {
      "image/png": "[encoded data removed]",
      "text/plain": [
       "<matplotlib.figure.Figure at 0x7f91a46f9898>"
      ]
     },
     "metadata": {},
     "output_type": "display_data"
    },
    {
     "name": "stdout",
     "output_type": "stream",
     "text": [
      "******************************\n",
      "Pattern no. 9\n"
     ]
    },
    {
     "data": {
      "image/png": "[encoded data removed]",
      "text/plain": [
       "<matplotlib.figure.Figure at 0x7f91a4c1e518>"
      ]
     },
     "metadata": {},
     "output_type": "display_data"
    },
    {
     "data": {
      "image/png": "[encoded data removed]",
      "text/plain": [
       "<matplotlib.figure.Figure at 0x7f91a478c588>"
      ]
     },
     "metadata": {},
     "output_type": "display_data"
    },
    {
     "data": {
      "image/png": "[encoded data removed]",
      "text/plain": [
       "<matplotlib.figure.Figure at 0x7f91a46bcba8>"
      ]
     },
     "metadata": {},
     "output_type": "display_data"
    },
    {
     "data": {
      "image/png": "[encoded data removed]",
      "text/plain": [
       "<matplotlib.figure.Figure at 0x7f91a4d9b9e8>"
      ]
     },
     "metadata": {},
     "output_type": "display_data"
    },
    {
     "name": "stdout",
     "output_type": "stream",
     "text": [
      "******************************\n",
      "Pattern no. 10\n"
     ]
    },
    {
     "data": {
      "image/png": "[encoded data removed]",
      "text/plain": [
       "<matplotlib.figure.Figure at 0x7f91a460ad30>"
      ]
     },
     "metadata": {},
     "output_type": "display_data"
    },
    {
     "data": {
      "image/png": "[encoded data removed]",
      "text/plain": [
       "<matplotlib.figure.Figure at 0x7f91a46ab9b0>"
      ]
     },
     "metadata": {},
     "output_type": "display_data"
    },
    {
     "data": {
      "image/png": "[encoded data removed]",
      "text/plain": [
       "<matplotlib.figure.Figure at 0x7f91a454d518>"
      ]
     },
     "metadata": {},
     "output_type": "display_data"
    },
    {
     "data": {
      "image/png": "[encoded data removed]",
      "text/plain": [
       "<matplotlib.figure.Figure at 0x7f91a455b1d0>"
      ]
     },
     "metadata": {},
     "output_type": "display_data"
    },
    {
     "name": "stdout",
     "output_type": "stream",
     "text": [
      "******************************\n",
      "Pattern no. 11\n"
     ]
    },
    {
     "data": {
      "image/png": "[encoded data removed]",
      "text/plain": [
       "<matplotlib.figure.Figure at 0x7f91a445fba8>"
      ]
     },
     "metadata": {},
     "output_type": "display_data"
    },
    {
     "data": {
      "image/png": "[encoded data removed]",
      "text/plain": [
       "<matplotlib.figure.Figure at 0x7f91a45ed978>"
      ]
     },
     "metadata": {},
     "output_type": "display_data"
    },
    {
     "data": {
      "image/png": "[encoded data removed]",
      "text/plain": [
       "<matplotlib.figure.Figure at 0x7f91a46f7eb8>"
      ]
     },
     "metadata": {},
     "output_type": "display_data"
    },
    {
     "data": {
      "image/png": "[encoded data removed]",
      "text/plain": [
       "<matplotlib.figure.Figure at 0x7f91a4d67518>"
      ]
     },
     "metadata": {},
     "output_type": "display_data"
    },
    {
     "name": "stdout",
     "output_type": "stream",
     "text": [
      "******************************\n",
      "Pattern no. 12\n"
     ]
    },
    {
     "data": {
      "image/png": "[encoded data removed]",
      "text/plain": [
       "<matplotlib.figure.Figure at 0x7f91a44fd0f0>"
      ]
     },
     "metadata": {},
     "output_type": "display_data"
    },
    {
     "data": {
      "image/png": "[encoded data removed]",
      "text/plain": [
       "<matplotlib.figure.Figure at 0x7f91a478d5f8>"
      ]
     },
     "metadata": {},
     "output_type": "display_data"
    },
    {
     "data": {
      "image/png": "[encoded data removed]",
      "text/plain": [
       "<matplotlib.figure.Figure at 0x7f91a4441be0>"
      ]
     },
     "metadata": {},
     "output_type": "display_data"
    },
    {
     "data": {
      "image/png": "[encoded data removed]",
      "text/plain": [
       "<matplotlib.figure.Figure at 0x7f91a4573d30>"
      ]
     },
     "metadata": {},
     "output_type": "display_data"
    },
    {
     "name": "stdout",
     "output_type": "stream",
     "text": [
      "******************************\n"
     ]
    }
   ],
   "source": [
    "for i in [2, 8, 9, 10, 11, 12]:\n",
    "  print(f'Pattern no. {i}')\n",
    "  plt.matshow(hopfield.signum(cont_hop4.predict(test[i].flatten())).reshape(5,5))\n",
    "  plt.show()\n",
    "  for j in range(3):\n",
    "    plt.matshow(hopfield.signum(cont_hop4.predict()).reshape(5,5))\n",
    "    plt.show()\n",
    "  print('*'*30)"
   ]
  },
  {
   "cell_type": "code",
   "execution_count": null,
   "metadata": {
    "collapsed": true
   },
   "outputs": [],
   "source": []
  }
 ],
 "metadata": {
  "kernelspec": {
   "display_name": "Python 3",
   "language": "python",
   "name": "python3"
  },
  "language_info": {
   "codemirror_mode": {
    "name": "ipython",
    "version": 3
   },
   "file_extension": ".py",
   "mimetype": "text/x-python",
   "name": "python",
   "nbconvert_exporter": "python",
   "pygments_lexer": "ipython3",
   "version": "3.6.2"
  }
 },
 "nbformat": 4,
 "nbformat_minor": 2
}
