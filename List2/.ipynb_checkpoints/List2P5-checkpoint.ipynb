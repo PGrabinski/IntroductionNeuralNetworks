{
 "cells": [
  {
   "cell_type": "markdown",
   "metadata": {},
   "source": [
    "# Neural Networks: List 2"
   ]
  },
  {
   "cell_type": "code",
   "execution_count": 1,
   "metadata": {
    "collapsed": true
   },
   "outputs": [],
   "source": [
    "import numpy as np\n",
    "import matplotlib.pyplot as plt\n",
    "%matplotlib inline\n",
    "import pandas as pd\n",
    "import continuous_hopfield"
   ]
  },
  {
   "cell_type": "markdown",
   "metadata": {},
   "source": [
    "# Problem 5"
   ]
  },
  {
   "cell_type": "code",
   "execution_count": 14,
   "metadata": {
    "collapsed": true
   },
   "outputs": [],
   "source": [
    "def p_to_N_ratio(N, iterations):\n",
    "  ps = []\n",
    "  for i in range(iterations):\n",
    "    p = 1\n",
    "    while True:\n",
    "      network = continuous_hopfield.ContinuousHopifield(N, print_format=(N,1), synchronous_update=False)\n",
    "      while True:\n",
    "        train_set = np.random.randint(2, size=(2 * p, N)) * 2 - 1\n",
    "        train_set = np.array(list(set([tuple(x) for x in train_set])))\n",
    "        if train_set.shape[0] >= p:\n",
    "          train_set = train_set[:p]\n",
    "#           print(f'Got the trainset of size {train_set.shape[0]}.')\n",
    "          break\n",
    "#         else:\n",
    "#           print(f'Not there yet! The size {train_set.shape[0]}.')\n",
    "      network.train(train_set, epochs=100, verbose=False)\n",
    "      response = np.apply_along_axis(func1d=network.predict, axis=1, arr=train_set)\n",
    "      known = ((train_set == response).sum(axis=1) == N).sum()\n",
    "#       print(f'Train {p} known {known}')\n",
    "      if  known < p or p >= 2**N:\n",
    "        ps.append(p - 1)\n",
    "        break\n",
    "      p += 1\n",
    "  return ps"
   ]
  },
  {
   "cell_type": "code",
   "execution_count": 17,
   "metadata": {
    "scrolled": true
   },
   "outputs": [],
   "source": [
    "pNs = [(pd.Series(p_to_N_ratio(N, 100)).mean(), N) for N in [5, 10, 15, 20, 25, 50, 100]]"
   ]
  },
  {
   "cell_type": "code",
   "execution_count": 18,
   "metadata": {},
   "outputs": [
    {
     "data": {
      "text/plain": [
       "0    0.000000\n",
       "1    0.167000\n",
       "2    0.156667\n",
       "3    0.161500\n",
       "4    0.154000\n",
       "5    0.123400\n",
       "6    0.095000\n",
       "dtype: float64"
      ]
     },
     "execution_count": 18,
     "metadata": {},
     "output_type": "execute_result"
    }
   ],
   "source": [
    "pNs_df = pd.DataFrame(pNs, columns=[ 'Avg_Rem','Network_size'])\n",
    "pNs_df.Avg_Rem/pNs_df.Network_size "
   ]
  },
  {
   "cell_type": "code",
   "execution_count": null,
   "metadata": {
    "collapsed": true
   },
   "outputs": [],
   "source": []
  }
 ],
 "metadata": {
  "kernelspec": {
   "display_name": "Python 3",
   "language": "python",
   "name": "python3"
  },
  "language_info": {
   "codemirror_mode": {
    "name": "ipython",
    "version": 3
   },
   "file_extension": ".py",
   "mimetype": "text/x-python",
   "name": "python",
   "nbconvert_exporter": "python",
   "pygments_lexer": "ipython3",
   "version": "3.6.2"
  }
 },
 "nbformat": 4,
 "nbformat_minor": 2
}
