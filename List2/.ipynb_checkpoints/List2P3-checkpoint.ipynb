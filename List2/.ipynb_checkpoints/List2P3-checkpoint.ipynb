{
 "cells": [
  {
   "cell_type": "markdown",
   "metadata": {},
   "source": [
    "# Neural Networks: List 2"
   ]
  },
  {
   "cell_type": "code",
   "execution_count": 1,
   "metadata": {},
   "outputs": [],
   "source": [
    "import numpy as np\n",
    "import matplotlib.pyplot as plt\n",
    "%matplotlib inline\n",
    "import pandas as pd\n",
    "import sys\n",
    "sys.path.insert(0, '../')\n",
    "import hopfield"
   ]
  },
  {
   "cell_type": "markdown",
   "metadata": {},
   "source": [
    "# Problem 3\n",
    "\n",
    "Find the maximum number $p$ of patterns which a network can store and find the ratio $p/N$. "
   ]
  },
  {
   "cell_type": "markdown",
   "metadata": {},
   "source": [
    "The first task is ill-defined. As we can see below the number of random-generated remembered patterns grows with the size of training set. For the $N=5$ network there are $2^5=32$ different possible patterns and the network is even possible to remember up to $26$ of them while feeded with full $32$ pattern set."
   ]
  },
  {
   "cell_type": "code",
   "execution_count": 2,
   "metadata": {
    "collapsed": true
   },
   "outputs": [],
   "source": [
    "def old_p_to_N_ratio(p_max, N, iterations):\n",
    "  ps = []\n",
    "  for p in [i for i in range(1, p_max+1)]:\n",
    "    for i in range(iterations):\n",
    "      network = hopfield.Hopfield(N, print_format=(N,1), synchronous=False, zero_self_interaction=True)\n",
    "      train_set = np.random.randint(2, size=(p, N)) * 2 - 1\n",
    "      train_set = np.array(list(set([tuple(x) for x in train_set])))\n",
    "      network.train(train_set)\n",
    "      response = np.apply_along_axis(func1d=network.update, axis=1, arr=train_set, print_form=False)\n",
    "      ps.append((N, p, ((train_set == response).sum(axis=1) == N).sum()))\n",
    "  return ps"
   ]
  },
  {
   "cell_type": "code",
   "execution_count": 3,
   "metadata": {
    "collapsed": true
   },
   "outputs": [],
   "source": [
    "max_ps = old_p_to_N_ratio(32, 5, 100)"
   ]
  },
  {
   "cell_type": "code",
   "execution_count": 4,
   "metadata": {},
   "outputs": [
    {
     "data": {
      "text/html": [
       "<div>\n",
       "<style scoped>\n",
       "    .dataframe tbody tr th:only-of-type {\n",
       "        vertical-align: middle;\n",
       "    }\n",
       "\n",
       "    .dataframe tbody tr th {\n",
       "        vertical-align: top;\n",
       "    }\n",
       "\n",
       "    .dataframe thead th {\n",
       "        text-align: right;\n",
       "    }\n",
       "</style>\n",
       "<table border=\"1\" class=\"dataframe\">\n",
       "  <thead>\n",
       "    <tr style=\"text-align: right;\">\n",
       "      <th></th>\n",
       "      <th>Net_size</th>\n",
       "      <th>Train_size</th>\n",
       "      <th>Remem</th>\n",
       "    </tr>\n",
       "  </thead>\n",
       "  <tbody>\n",
       "    <tr>\n",
       "      <th>count</th>\n",
       "      <td>3200.0</td>\n",
       "      <td>3200.000000</td>\n",
       "      <td>3200.000000</td>\n",
       "    </tr>\n",
       "    <tr>\n",
       "      <th>mean</th>\n",
       "      <td>5.0</td>\n",
       "      <td>16.500000</td>\n",
       "      <td>2.288750</td>\n",
       "    </tr>\n",
       "    <tr>\n",
       "      <th>std</th>\n",
       "      <td>0.0</td>\n",
       "      <td>9.234536</td>\n",
       "      <td>1.042275</td>\n",
       "    </tr>\n",
       "    <tr>\n",
       "      <th>min</th>\n",
       "      <td>5.0</td>\n",
       "      <td>1.000000</td>\n",
       "      <td>0.000000</td>\n",
       "    </tr>\n",
       "    <tr>\n",
       "      <th>25%</th>\n",
       "      <td>5.0</td>\n",
       "      <td>8.750000</td>\n",
       "      <td>2.000000</td>\n",
       "    </tr>\n",
       "    <tr>\n",
       "      <th>50%</th>\n",
       "      <td>5.0</td>\n",
       "      <td>16.500000</td>\n",
       "      <td>2.000000</td>\n",
       "    </tr>\n",
       "    <tr>\n",
       "      <th>75%</th>\n",
       "      <td>5.0</td>\n",
       "      <td>24.250000</td>\n",
       "      <td>3.000000</td>\n",
       "    </tr>\n",
       "    <tr>\n",
       "      <th>max</th>\n",
       "      <td>5.0</td>\n",
       "      <td>32.000000</td>\n",
       "      <td>8.000000</td>\n",
       "    </tr>\n",
       "  </tbody>\n",
       "</table>\n",
       "</div>"
      ],
      "text/plain": [
       "       Net_size   Train_size        Remem\n",
       "count    3200.0  3200.000000  3200.000000\n",
       "mean        5.0    16.500000     2.288750\n",
       "std         0.0     9.234536     1.042275\n",
       "min         5.0     1.000000     0.000000\n",
       "25%         5.0     8.750000     2.000000\n",
       "50%         5.0    16.500000     2.000000\n",
       "75%         5.0    24.250000     3.000000\n",
       "max         5.0    32.000000     8.000000"
      ]
     },
     "execution_count": 4,
     "metadata": {},
     "output_type": "execute_result"
    }
   ],
   "source": [
    "max_ps_df = pd.DataFrame(max_ps, columns=['Net_size','Train_size', 'Remem'])\n",
    "max_ps_df.describe()"
   ]
  },
  {
   "cell_type": "code",
   "execution_count": 5,
   "metadata": {},
   "outputs": [
    {
     "data": {
      "text/plain": [
       "Train_size  Remem\n",
       "1           1        100\n",
       "2           2         73\n",
       "            1         20\n",
       "            0          7\n",
       "3           2         43\n",
       "            1         39\n",
       "            3         11\n",
       "            0          7\n",
       "4           1         42\n",
       "            2         38\n",
       "            0         13\n",
       "            3          6\n",
       "            4          1\n",
       "5           1         42\n",
       "            2         35\n",
       "            0         15\n",
       "            3          5\n",
       "            4          2\n",
       "            5          1\n",
       "6           1         45\n",
       "            2         41\n",
       "            3          6\n",
       "            0          5\n",
       "            4          3\n",
       "7           2         57\n",
       "            1         22\n",
       "            0          9\n",
       "            3          8\n",
       "            4          4\n",
       "8           2         49\n",
       "                    ... \n",
       "27          6          1\n",
       "            8          1\n",
       "28          2         41\n",
       "            3         30\n",
       "            4         26\n",
       "            1          1\n",
       "            5          1\n",
       "            6          1\n",
       "29          2         46\n",
       "            3         29\n",
       "            4         22\n",
       "            5          2\n",
       "            1          1\n",
       "30          2         39\n",
       "            3         27\n",
       "            4         26\n",
       "            5          7\n",
       "            6          1\n",
       "31          2         46\n",
       "            4         26\n",
       "            3         23\n",
       "            1          2\n",
       "            6          2\n",
       "            5          1\n",
       "32          2         47\n",
       "            4         26\n",
       "            3         20\n",
       "            1          3\n",
       "            5          3\n",
       "            6          1\n",
       "Name: Remem, Length: 168, dtype: int64"
      ]
     },
     "execution_count": 5,
     "metadata": {},
     "output_type": "execute_result"
    }
   ],
   "source": [
    "max_ps_df.groupby('Train_size').Remem.value_counts()"
   ]
  },
  {
   "cell_type": "markdown",
   "metadata": {},
   "source": [
    "Below, we incrementally increase the size of the training set until the network misses one of them and return the size of the last fully remembered train_set. This is repeated over given number of iterations."
   ]
  },
  {
   "cell_type": "code",
   "execution_count": 6,
   "metadata": {
    "collapsed": true
   },
   "outputs": [],
   "source": [
    "def p_to_N_ratio(N, iterations):\n",
    "  ps = []\n",
    "  for i in range(iterations):\n",
    "    p = 1\n",
    "    while True:\n",
    "      network = hopfield.Hopfield(N, print_format=(N,1), synchronous=False, zero_self_interaction=True)\n",
    "      while True:\n",
    "        train_set = np.random.randint(2, size=(2 * p, N)) * 2 - 1\n",
    "        train_set = np.array(list(set([tuple(x) for x in train_set])))\n",
    "        if train_set.shape[0] >= p:\n",
    "          train_set = train_set[:p]\n",
    "#           print(f'Got the trainset of size {train_set.shape[0]}.')\n",
    "          break\n",
    "#         else:\n",
    "#           print(f'Not there yet! The size {train_set.shape[0]}.')\n",
    "      network.train(train_set)\n",
    "      response = np.apply_along_axis(func1d=network.update, axis=1, arr=train_set, print_form=False)\n",
    "      known = ((train_set == response).sum(axis=1) == N).sum()\n",
    "#       print(f'Train {p} known {known}')\n",
    "      if  known < p or p >= 2**N:\n",
    "        ps.append(p - 1)\n",
    "        break\n",
    "      p += 1\n",
    "  return ps"
   ]
  },
  {
   "cell_type": "code",
   "execution_count": 7,
   "metadata": {
    "collapsed": true,
    "scrolled": true
   },
   "outputs": [],
   "source": [
    "pNs = [(pd.Series(p_to_N_ratio(N, 100)).mean(), N) for N in [5, 10, 15, 20, 25, 50, 100]]"
   ]
  },
  {
   "cell_type": "markdown",
   "metadata": {},
   "source": [
    "We can see that the ratio is actually higher than the theoretical $p/N<0.138$."
   ]
  },
  {
   "cell_type": "code",
   "execution_count": 8,
   "metadata": {},
   "outputs": [
    {
     "data": {
      "text/html": [
       "<div>\n",
       "<style scoped>\n",
       "    .dataframe tbody tr th:only-of-type {\n",
       "        vertical-align: middle;\n",
       "    }\n",
       "\n",
       "    .dataframe tbody tr th {\n",
       "        vertical-align: top;\n",
       "    }\n",
       "\n",
       "    .dataframe thead th {\n",
       "        text-align: right;\n",
       "    }\n",
       "</style>\n",
       "<table border=\"1\" class=\"dataframe\">\n",
       "  <thead>\n",
       "    <tr style=\"text-align: right;\">\n",
       "      <th></th>\n",
       "      <th>Avg_Rem</th>\n",
       "      <th>Network_size</th>\n",
       "      <th>pN</th>\n",
       "    </tr>\n",
       "  </thead>\n",
       "  <tbody>\n",
       "    <tr>\n",
       "      <th>0</th>\n",
       "      <td>1.72</td>\n",
       "      <td>5</td>\n",
       "      <td>0.344000</td>\n",
       "    </tr>\n",
       "    <tr>\n",
       "      <th>1</th>\n",
       "      <td>2.91</td>\n",
       "      <td>10</td>\n",
       "      <td>0.291000</td>\n",
       "    </tr>\n",
       "    <tr>\n",
       "      <th>2</th>\n",
       "      <td>3.61</td>\n",
       "      <td>15</td>\n",
       "      <td>0.240667</td>\n",
       "    </tr>\n",
       "    <tr>\n",
       "      <th>3</th>\n",
       "      <td>4.05</td>\n",
       "      <td>20</td>\n",
       "      <td>0.202500</td>\n",
       "    </tr>\n",
       "    <tr>\n",
       "      <th>4</th>\n",
       "      <td>4.53</td>\n",
       "      <td>25</td>\n",
       "      <td>0.181200</td>\n",
       "    </tr>\n",
       "    <tr>\n",
       "      <th>5</th>\n",
       "      <td>6.69</td>\n",
       "      <td>50</td>\n",
       "      <td>0.133800</td>\n",
       "    </tr>\n",
       "    <tr>\n",
       "      <th>6</th>\n",
       "      <td>9.90</td>\n",
       "      <td>100</td>\n",
       "      <td>0.099000</td>\n",
       "    </tr>\n",
       "  </tbody>\n",
       "</table>\n",
       "</div>"
      ],
      "text/plain": [
       "   Avg_Rem  Network_size        pN\n",
       "0     1.72             5  0.344000\n",
       "1     2.91            10  0.291000\n",
       "2     3.61            15  0.240667\n",
       "3     4.05            20  0.202500\n",
       "4     4.53            25  0.181200\n",
       "5     6.69            50  0.133800\n",
       "6     9.90           100  0.099000"
      ]
     },
     "execution_count": 8,
     "metadata": {},
     "output_type": "execute_result"
    }
   ],
   "source": [
    "pNs_df = pd.DataFrame(pNs, columns=[ 'Avg_Rem','Network_size'])\n",
    "pNs_df = pNs_df.assign(pN=pNs_df.Avg_Rem/pNs_df.Network_size )\n",
    "pNs_df"
   ]
  },
  {
   "cell_type": "code",
   "execution_count": 9,
   "metadata": {},
   "outputs": [
    {
     "data": {
      "text/html": [
       "<div>\n",
       "<style scoped>\n",
       "    .dataframe tbody tr th:only-of-type {\n",
       "        vertical-align: middle;\n",
       "    }\n",
       "\n",
       "    .dataframe tbody tr th {\n",
       "        vertical-align: top;\n",
       "    }\n",
       "\n",
       "    .dataframe thead th {\n",
       "        text-align: right;\n",
       "    }\n",
       "</style>\n",
       "<table border=\"1\" class=\"dataframe\">\n",
       "  <thead>\n",
       "    <tr style=\"text-align: right;\">\n",
       "      <th></th>\n",
       "      <th>Avg_Rem</th>\n",
       "      <th>Network_size</th>\n",
       "      <th>pN</th>\n",
       "    </tr>\n",
       "  </thead>\n",
       "  <tbody>\n",
       "    <tr>\n",
       "      <th>count</th>\n",
       "      <td>7.000000</td>\n",
       "      <td>7.000000</td>\n",
       "      <td>7.000000</td>\n",
       "    </tr>\n",
       "    <tr>\n",
       "      <th>mean</th>\n",
       "      <td>4.772857</td>\n",
       "      <td>32.142857</td>\n",
       "      <td>0.213167</td>\n",
       "    </tr>\n",
       "    <tr>\n",
       "      <th>std</th>\n",
       "      <td>2.729070</td>\n",
       "      <td>33.273756</td>\n",
       "      <td>0.086024</td>\n",
       "    </tr>\n",
       "    <tr>\n",
       "      <th>min</th>\n",
       "      <td>1.720000</td>\n",
       "      <td>5.000000</td>\n",
       "      <td>0.099000</td>\n",
       "    </tr>\n",
       "    <tr>\n",
       "      <th>25%</th>\n",
       "      <td>3.260000</td>\n",
       "      <td>12.500000</td>\n",
       "      <td>0.157500</td>\n",
       "    </tr>\n",
       "    <tr>\n",
       "      <th>50%</th>\n",
       "      <td>4.050000</td>\n",
       "      <td>20.000000</td>\n",
       "      <td>0.202500</td>\n",
       "    </tr>\n",
       "    <tr>\n",
       "      <th>75%</th>\n",
       "      <td>5.610000</td>\n",
       "      <td>37.500000</td>\n",
       "      <td>0.265833</td>\n",
       "    </tr>\n",
       "    <tr>\n",
       "      <th>max</th>\n",
       "      <td>9.900000</td>\n",
       "      <td>100.000000</td>\n",
       "      <td>0.344000</td>\n",
       "    </tr>\n",
       "  </tbody>\n",
       "</table>\n",
       "</div>"
      ],
      "text/plain": [
       "        Avg_Rem  Network_size        pN\n",
       "count  7.000000      7.000000  7.000000\n",
       "mean   4.772857     32.142857  0.213167\n",
       "std    2.729070     33.273756  0.086024\n",
       "min    1.720000      5.000000  0.099000\n",
       "25%    3.260000     12.500000  0.157500\n",
       "50%    4.050000     20.000000  0.202500\n",
       "75%    5.610000     37.500000  0.265833\n",
       "max    9.900000    100.000000  0.344000"
      ]
     },
     "execution_count": 9,
     "metadata": {},
     "output_type": "execute_result"
    }
   ],
   "source": [
    "pNs_df.describe()"
   ]
  },
  {
   "cell_type": "code",
   "execution_count": null,
   "metadata": {
    "collapsed": true
   },
   "outputs": [],
   "source": []
  }
 ],
 "metadata": {
  "kernelspec": {
   "display_name": "Python 3",
   "language": "python",
   "name": "python3"
  },
  "language_info": {
   "codemirror_mode": {
    "name": "ipython",
    "version": 3
   },
   "file_extension": ".py",
   "mimetype": "text/x-python",
   "name": "python",
   "nbconvert_exporter": "python",
   "pygments_lexer": "ipython3",
   "version": "3.6.2"
  }
 },
 "nbformat": 4,
 "nbformat_minor": 2
}
