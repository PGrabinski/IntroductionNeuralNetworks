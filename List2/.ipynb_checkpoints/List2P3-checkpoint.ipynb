{
 "cells": [
  {
   "cell_type": "markdown",
   "metadata": {},
   "source": [
    "# Neural Networks: List 2"
   ]
  },
  {
   "cell_type": "code",
   "execution_count": 1,
   "metadata": {
    "collapsed": true
   },
   "outputs": [],
   "source": [
    "import numpy as np\n",
    "import matplotlib.pyplot as plt\n",
    "%matplotlib inline\n",
    "import pandas as pd\n",
    "import hopfield"
   ]
  },
  {
   "cell_type": "markdown",
   "metadata": {},
   "source": [
    "# Problem 3\n",
    "\n",
    "Find the maximum number $p$ of patterns which a network can store and find the ratio $p/N$. "
   ]
  },
  {
   "cell_type": "markdown",
   "metadata": {},
   "source": [
    "The first task is ill-defined. As we can see below the number of random-generated remembered patterns grows with the size of training set. For the $N=5$ network there are $2^5=32$ different possible patterns and the network is even possible to remember up to $26$ of them while feeded with full $32$ pattern set."
   ]
  },
  {
   "cell_type": "code",
   "execution_count": 2,
   "metadata": {
    "collapsed": true
   },
   "outputs": [],
   "source": [
    "def old_p_to_N_ratio(p_max, N, iterations):\n",
    "  ps = []\n",
    "  for p in [i for i in range(1, p_max+1)]:\n",
    "    for i in range(iterations):\n",
    "      network = hopfield.Hopfield(N, print_format=(N,1), synchronous=False, zero_self_interaction=True)\n",
    "      train_set = np.random.randint(2, size=(p, N)) * 2 - 1\n",
    "      train_set = np.array(list(set([tuple(x) for x in train_set])))\n",
    "      network.train(train_set)\n",
    "      response = np.apply_along_axis(func1d=network.update, axis=1, arr=train_set, print_form=False)\n",
    "      ps.append((N, p, ((train_set == response).sum(axis=1) == N).sum()))\n",
    "  return ps"
   ]
  },
  {
   "cell_type": "code",
   "execution_count": 3,
   "metadata": {
    "collapsed": true
   },
   "outputs": [],
   "source": [
    "max_ps = old_p_to_N_ratio(32, 5, 100)"
   ]
  },
  {
   "cell_type": "code",
   "execution_count": 6,
   "metadata": {},
   "outputs": [
    {
     "data": {
      "text/html": [
       "<div>\n",
       "<style scoped>\n",
       "    .dataframe tbody tr th:only-of-type {\n",
       "        vertical-align: middle;\n",
       "    }\n",
       "\n",
       "    .dataframe tbody tr th {\n",
       "        vertical-align: top;\n",
       "    }\n",
       "\n",
       "    .dataframe thead th {\n",
       "        text-align: right;\n",
       "    }\n",
       "</style>\n",
       "<table border=\"1\" class=\"dataframe\">\n",
       "  <thead>\n",
       "    <tr style=\"text-align: right;\">\n",
       "      <th></th>\n",
       "      <th>Net_size</th>\n",
       "      <th>Train_size</th>\n",
       "      <th>Remem</th>\n",
       "    </tr>\n",
       "  </thead>\n",
       "  <tbody>\n",
       "    <tr>\n",
       "      <th>count</th>\n",
       "      <td>3200.0</td>\n",
       "      <td>3200.000000</td>\n",
       "      <td>3200.000000</td>\n",
       "    </tr>\n",
       "    <tr>\n",
       "      <th>mean</th>\n",
       "      <td>5.0</td>\n",
       "      <td>16.500000</td>\n",
       "      <td>12.114375</td>\n",
       "    </tr>\n",
       "    <tr>\n",
       "      <th>std</th>\n",
       "      <td>0.0</td>\n",
       "      <td>9.234536</td>\n",
       "      <td>5.948779</td>\n",
       "    </tr>\n",
       "    <tr>\n",
       "      <th>min</th>\n",
       "      <td>5.0</td>\n",
       "      <td>1.000000</td>\n",
       "      <td>1.000000</td>\n",
       "    </tr>\n",
       "    <tr>\n",
       "      <th>25%</th>\n",
       "      <td>5.0</td>\n",
       "      <td>8.750000</td>\n",
       "      <td>7.000000</td>\n",
       "    </tr>\n",
       "    <tr>\n",
       "      <th>50%</th>\n",
       "      <td>5.0</td>\n",
       "      <td>16.500000</td>\n",
       "      <td>13.000000</td>\n",
       "    </tr>\n",
       "    <tr>\n",
       "      <th>75%</th>\n",
       "      <td>5.0</td>\n",
       "      <td>24.250000</td>\n",
       "      <td>17.000000</td>\n",
       "    </tr>\n",
       "    <tr>\n",
       "      <th>max</th>\n",
       "      <td>5.0</td>\n",
       "      <td>32.000000</td>\n",
       "      <td>26.000000</td>\n",
       "    </tr>\n",
       "  </tbody>\n",
       "</table>\n",
       "</div>"
      ],
      "text/plain": [
       "       Net_size   Train_size        Remem\n",
       "count    3200.0  3200.000000  3200.000000\n",
       "mean        5.0    16.500000    12.114375\n",
       "std         0.0     9.234536     5.948779\n",
       "min         5.0     1.000000     1.000000\n",
       "25%         5.0     8.750000     7.000000\n",
       "50%         5.0    16.500000    13.000000\n",
       "75%         5.0    24.250000    17.000000\n",
       "max         5.0    32.000000    26.000000"
      ]
     },
     "execution_count": 6,
     "metadata": {},
     "output_type": "execute_result"
    }
   ],
   "source": [
    "max_ps_df = pd.DataFrame(max_ps, columns=['Net_size','Train_size', 'Remem'])\n",
    "max_ps_df.describe()"
   ]
  },
  {
   "cell_type": "code",
   "execution_count": 8,
   "metadata": {},
   "outputs": [
    {
     "data": {
      "text/plain": [
       "Train_size  Remem\n",
       "1           1        100\n",
       "2           2         99\n",
       "            1          1\n",
       "3           3         82\n",
       "            2         18\n",
       "4           4         75\n",
       "            3         19\n",
       "            2          6\n",
       "5           5         59\n",
       "            4         35\n",
       "            3          5\n",
       "            2          1\n",
       "6           6         47\n",
       "            5         37\n",
       "            4          9\n",
       "            3          6\n",
       "            2          1\n",
       "7           7         43\n",
       "            6         27\n",
       "            5         18\n",
       "            3          7\n",
       "            4          5\n",
       "8           7         42\n",
       "            8         35\n",
       "            6         12\n",
       "            5          8\n",
       "            4          2\n",
       "            1          1\n",
       "9           8         45\n",
       "            9         28\n",
       "                    ... \n",
       "30          19        32\n",
       "            20        19\n",
       "            21        18\n",
       "            18        11\n",
       "            17         7\n",
       "            22         6\n",
       "            23         3\n",
       "            16         2\n",
       "            15         1\n",
       "            24         1\n",
       "31          20        20\n",
       "            21        19\n",
       "            22        17\n",
       "            19        16\n",
       "            18        14\n",
       "            17         5\n",
       "            23         4\n",
       "            16         2\n",
       "            24         2\n",
       "            25         1\n",
       "32          20        29\n",
       "            21        20\n",
       "            22        20\n",
       "            19         9\n",
       "            18         7\n",
       "            17         5\n",
       "            23         4\n",
       "            16         3\n",
       "            24         2\n",
       "            26         1\n",
       "Name: Remem, Length: 228, dtype: int64"
      ]
     },
     "execution_count": 8,
     "metadata": {},
     "output_type": "execute_result"
    }
   ],
   "source": [
    "max_ps_df.groupby('Train_size').Remem.value_counts()"
   ]
  },
  {
   "cell_type": "markdown",
   "metadata": {},
   "source": [
    "Below, we incrementally increase the size of the training set until the network misses one of them and return the size of the last fully remembered train_set. This is repeated over given number of iterations."
   ]
  },
  {
   "cell_type": "code",
   "execution_count": 10,
   "metadata": {
    "collapsed": true
   },
   "outputs": [],
   "source": [
    "def p_to_N_ratio(N, iterations):\n",
    "  ps = []\n",
    "  for i in range(iterations):\n",
    "    p = 1\n",
    "    while True:\n",
    "      network = hopfield.Hopfield(N, print_format=(N,1), synchronous=False, zero_self_interaction=True)\n",
    "      while True:\n",
    "        train_set = np.random.randint(2, size=(2 * p, N)) * 2 - 1\n",
    "        train_set = np.array(list(set([tuple(x) for x in train_set])))\n",
    "        if train_set.shape[0] >= p:\n",
    "          train_set = train_set[:p]\n",
    "#           print(f'Got the trainset of size {train_set.shape[0]}.')\n",
    "          break\n",
    "#         else:\n",
    "#           print(f'Not there yet! The size {train_set.shape[0]}.')\n",
    "      network.train(train_set)\n",
    "      response = np.apply_along_axis(func1d=network.update, axis=1, arr=train_set, print_form=False)\n",
    "      known = ((train_set == response).sum(axis=1) == N).sum()\n",
    "#       print(f'Train {p} known {known}')\n",
    "      if  known < p or p >= 2**N:\n",
    "        ps.append(p - 1)\n",
    "        break\n",
    "      p += 1\n",
    "  return ps"
   ]
  },
  {
   "cell_type": "code",
   "execution_count": 11,
   "metadata": {
    "scrolled": true
   },
   "outputs": [],
   "source": [
    "pNs = [(pd.Series(p_to_N_ratio(N, 100)).mean(), N) for N in [5, 10, 15, 20, 25, 50, 100]]"
   ]
  },
  {
   "cell_type": "markdown",
   "metadata": {},
   "source": [
    "We can see that the ratio is actually higher than the theoretical $p/N<0.138$."
   ]
  },
  {
   "cell_type": "code",
   "execution_count": 13,
   "metadata": {},
   "outputs": [
    {
     "data": {
      "text/html": [
       "<div>\n",
       "<style scoped>\n",
       "    .dataframe tbody tr th:only-of-type {\n",
       "        vertical-align: middle;\n",
       "    }\n",
       "\n",
       "    .dataframe tbody tr th {\n",
       "        vertical-align: top;\n",
       "    }\n",
       "\n",
       "    .dataframe thead th {\n",
       "        text-align: right;\n",
       "    }\n",
       "</style>\n",
       "<table border=\"1\" class=\"dataframe\">\n",
       "  <thead>\n",
       "    <tr style=\"text-align: right;\">\n",
       "      <th></th>\n",
       "      <th>Avg_Rem</th>\n",
       "      <th>Network_size</th>\n",
       "      <th>pN</th>\n",
       "    </tr>\n",
       "  </thead>\n",
       "  <tbody>\n",
       "    <tr>\n",
       "      <th>0</th>\n",
       "      <td>13.57</td>\n",
       "      <td>5</td>\n",
       "      <td>2.7140</td>\n",
       "    </tr>\n",
       "    <tr>\n",
       "      <th>1</th>\n",
       "      <td>5.06</td>\n",
       "      <td>10</td>\n",
       "      <td>0.5060</td>\n",
       "    </tr>\n",
       "    <tr>\n",
       "      <th>2</th>\n",
       "      <td>5.25</td>\n",
       "      <td>15</td>\n",
       "      <td>0.3500</td>\n",
       "    </tr>\n",
       "    <tr>\n",
       "      <th>3</th>\n",
       "      <td>5.68</td>\n",
       "      <td>20</td>\n",
       "      <td>0.2840</td>\n",
       "    </tr>\n",
       "    <tr>\n",
       "      <th>4</th>\n",
       "      <td>6.14</td>\n",
       "      <td>25</td>\n",
       "      <td>0.2456</td>\n",
       "    </tr>\n",
       "    <tr>\n",
       "      <th>5</th>\n",
       "      <td>7.88</td>\n",
       "      <td>50</td>\n",
       "      <td>0.1576</td>\n",
       "    </tr>\n",
       "    <tr>\n",
       "      <th>6</th>\n",
       "      <td>11.10</td>\n",
       "      <td>100</td>\n",
       "      <td>0.1110</td>\n",
       "    </tr>\n",
       "  </tbody>\n",
       "</table>\n",
       "</div>"
      ],
      "text/plain": [
       "   Avg_Rem  Network_size      pN\n",
       "0    13.57             5  2.7140\n",
       "1     5.06            10  0.5060\n",
       "2     5.25            15  0.3500\n",
       "3     5.68            20  0.2840\n",
       "4     6.14            25  0.2456\n",
       "5     7.88            50  0.1576\n",
       "6    11.10           100  0.1110"
      ]
     },
     "execution_count": 13,
     "metadata": {},
     "output_type": "execute_result"
    }
   ],
   "source": [
    "pNs_df = pd.DataFrame(pNs, columns=[ 'Avg_Rem','Network_size'])\n",
    "pNs_df = pNs_df.assign(pN=pNs_df.Avg_Rem/pNs_df.Network_size )\n",
    "pNs_df"
   ]
  },
  {
   "cell_type": "code",
   "execution_count": 14,
   "metadata": {},
   "outputs": [
    {
     "data": {
      "text/html": [
       "<div>\n",
       "<style scoped>\n",
       "    .dataframe tbody tr th:only-of-type {\n",
       "        vertical-align: middle;\n",
       "    }\n",
       "\n",
       "    .dataframe tbody tr th {\n",
       "        vertical-align: top;\n",
       "    }\n",
       "\n",
       "    .dataframe thead th {\n",
       "        text-align: right;\n",
       "    }\n",
       "</style>\n",
       "<table border=\"1\" class=\"dataframe\">\n",
       "  <thead>\n",
       "    <tr style=\"text-align: right;\">\n",
       "      <th></th>\n",
       "      <th>Avg_Rem</th>\n",
       "      <th>Network_size</th>\n",
       "      <th>pN</th>\n",
       "    </tr>\n",
       "  </thead>\n",
       "  <tbody>\n",
       "    <tr>\n",
       "      <th>count</th>\n",
       "      <td>7.000000</td>\n",
       "      <td>7.000000</td>\n",
       "      <td>7.000000</td>\n",
       "    </tr>\n",
       "    <tr>\n",
       "      <th>mean</th>\n",
       "      <td>7.811429</td>\n",
       "      <td>32.142857</td>\n",
       "      <td>0.624029</td>\n",
       "    </tr>\n",
       "    <tr>\n",
       "      <th>std</th>\n",
       "      <td>3.302738</td>\n",
       "      <td>33.273756</td>\n",
       "      <td>0.930644</td>\n",
       "    </tr>\n",
       "    <tr>\n",
       "      <th>min</th>\n",
       "      <td>5.060000</td>\n",
       "      <td>5.000000</td>\n",
       "      <td>0.111000</td>\n",
       "    </tr>\n",
       "    <tr>\n",
       "      <th>25%</th>\n",
       "      <td>5.465000</td>\n",
       "      <td>12.500000</td>\n",
       "      <td>0.201600</td>\n",
       "    </tr>\n",
       "    <tr>\n",
       "      <th>50%</th>\n",
       "      <td>6.140000</td>\n",
       "      <td>20.000000</td>\n",
       "      <td>0.284000</td>\n",
       "    </tr>\n",
       "    <tr>\n",
       "      <th>75%</th>\n",
       "      <td>9.490000</td>\n",
       "      <td>37.500000</td>\n",
       "      <td>0.428000</td>\n",
       "    </tr>\n",
       "    <tr>\n",
       "      <th>max</th>\n",
       "      <td>13.570000</td>\n",
       "      <td>100.000000</td>\n",
       "      <td>2.714000</td>\n",
       "    </tr>\n",
       "  </tbody>\n",
       "</table>\n",
       "</div>"
      ],
      "text/plain": [
       "         Avg_Rem  Network_size        pN\n",
       "count   7.000000      7.000000  7.000000\n",
       "mean    7.811429     32.142857  0.624029\n",
       "std     3.302738     33.273756  0.930644\n",
       "min     5.060000      5.000000  0.111000\n",
       "25%     5.465000     12.500000  0.201600\n",
       "50%     6.140000     20.000000  0.284000\n",
       "75%     9.490000     37.500000  0.428000\n",
       "max    13.570000    100.000000  2.714000"
      ]
     },
     "execution_count": 14,
     "metadata": {},
     "output_type": "execute_result"
    }
   ],
   "source": [
    "pNs_df.describe()"
   ]
  },
  {
   "cell_type": "code",
   "execution_count": null,
   "metadata": {
    "collapsed": true
   },
   "outputs": [],
   "source": []
  }
 ],
 "metadata": {
  "kernelspec": {
   "display_name": "Python 3",
   "language": "python",
   "name": "python3"
  },
  "language_info": {
   "codemirror_mode": {
    "name": "ipython",
    "version": 3
   },
   "file_extension": ".py",
   "mimetype": "text/x-python",
   "name": "python",
   "nbconvert_exporter": "python",
   "pygments_lexer": "ipython3",
   "version": "3.6.2"
  }
 },
 "nbformat": 4,
 "nbformat_minor": 2
}
