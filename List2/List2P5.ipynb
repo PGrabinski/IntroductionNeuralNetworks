{
 "cells": [
  {
   "cell_type": "markdown",
   "metadata": {},
   "source": [
    "# Neural Networks: List 2"
   ]
  },
  {
   "cell_type": "code",
   "execution_count": 1,
   "metadata": {
    "collapsed": true
   },
   "outputs": [],
   "source": [
    "import numpy as np\n",
    "import matplotlib.pyplot as plt\n",
    "%matplotlib inline\n",
    "import pandas as pd\n",
    "import sys\n",
    "sys.path.insert(0, '../')\n",
    "import hopfield\n",
    "import continuous_hopfield"
   ]
  },
  {
   "cell_type": "markdown",
   "metadata": {},
   "source": [
    "# Problem 5"
   ]
  },
  {
   "cell_type": "code",
   "execution_count": 2,
   "metadata": {
    "collapsed": true
   },
   "outputs": [],
   "source": [
    "def p_to_N_ratio(N, iterations):\n",
    "  ps = []\n",
    "  for i in range(iterations):\n",
    "    p = 1\n",
    "    while True:\n",
    "      network = continuous_hopfield.ContinuousHopifield(N, print_format=(N,1), synchronous_update=False)\n",
    "      while True:\n",
    "        train_set = np.random.randint(2, size=(2 * p, N)) * 2 - 1\n",
    "        train_set = np.array(list(set([tuple(x) for x in train_set])))\n",
    "        if train_set.shape[0] >= p:\n",
    "          train_set = train_set[:p]\n",
    "#           print(f'Got the trainset of size {train_set.shape[0]}.')\n",
    "          break\n",
    "#         else:\n",
    "#           print(f'Not there yet! The size {train_set.shape[0]}.')\n",
    "      network.train(train_set, epochs=100, verbose=False)\n",
    "      response = np.apply_along_axis(func1d=network.predict, axis=1, arr=train_set)\n",
    "      known = ((train_set == response).sum(axis=1) == N).sum()\n",
    "#       print(f'Train {p} known {known}')\n",
    "      if  known < p or p >= 2**N:\n",
    "        ps.append(p - 1)\n",
    "        break\n",
    "      p += 1\n",
    "  return ps"
   ]
  },
  {
   "cell_type": "code",
   "execution_count": 3,
   "metadata": {
    "collapsed": true,
    "scrolled": true
   },
   "outputs": [],
   "source": [
    "pNs = [(pd.Series(p_to_N_ratio(N, 10)).mean(), N) for N in [5, 10, 15, 20, 25]]"
   ]
  },
  {
   "cell_type": "code",
   "execution_count": null,
   "metadata": {},
   "outputs": [
    {
     "data": {
      "text/html": [
       "<div>\n",
       "<style scoped>\n",
       "    .dataframe tbody tr th:only-of-type {\n",
       "        vertical-align: middle;\n",
       "    }\n",
       "\n",
       "    .dataframe tbody tr th {\n",
       "        vertical-align: top;\n",
       "    }\n",
       "\n",
       "    .dataframe thead th {\n",
       "        text-align: right;\n",
       "    }\n",
       "</style>\n",
       "<table border=\"1\" class=\"dataframe\">\n",
       "  <thead>\n",
       "    <tr style=\"text-align: right;\">\n",
       "      <th></th>\n",
       "      <th>Avg_Rem</th>\n",
       "      <th>Network_size</th>\n",
       "      <th>pN</th>\n",
       "    </tr>\n",
       "  </thead>\n",
       "  <tbody>\n",
       "    <tr>\n",
       "      <th>0</th>\n",
       "      <td>0.0</td>\n",
       "      <td>5</td>\n",
       "      <td>0.000</td>\n",
       "    </tr>\n",
       "    <tr>\n",
       "      <th>1</th>\n",
       "      <td>2.0</td>\n",
       "      <td>10</td>\n",
       "      <td>0.200</td>\n",
       "    </tr>\n",
       "    <tr>\n",
       "      <th>2</th>\n",
       "      <td>2.4</td>\n",
       "      <td>15</td>\n",
       "      <td>0.160</td>\n",
       "    </tr>\n",
       "    <tr>\n",
       "      <th>3</th>\n",
       "      <td>5.1</td>\n",
       "      <td>20</td>\n",
       "      <td>0.255</td>\n",
       "    </tr>\n",
       "    <tr>\n",
       "      <th>4</th>\n",
       "      <td>9.6</td>\n",
       "      <td>25</td>\n",
       "      <td>0.384</td>\n",
       "    </tr>\n",
       "  </tbody>\n",
       "</table>\n",
       "</div>"
      ],
      "text/plain": [
       "   Avg_Rem  Network_size     pN\n",
       "0      0.0             5  0.000\n",
       "1      2.0            10  0.200\n",
       "2      2.4            15  0.160\n",
       "3      5.1            20  0.255\n",
       "4      9.6            25  0.384"
      ]
     },
     "execution_count": 4,
     "metadata": {},
     "output_type": "execute_result"
    }
   ],
   "source": [
    "pNs_df = pd.DataFrame(pNs, columns=[ 'Avg_Rem','Network_size'])\n",
    "pNs_df = pNs_df.assign(pN=pNs_df.Avg_Rem/pNs_df.Network_size )\n",
    "pNs_df"
   ]
  },
  {
   "cell_type": "code",
   "execution_count": null,
   "metadata": {
    "collapsed": true
   },
   "outputs": [],
   "source": [
    "pNs50 = [(pd.Series(p_to_N_ratio(N, 10)).mean(), N) for N in [50]]"
   ]
  },
  {
   "cell_type": "code",
   "execution_count": null,
   "metadata": {
    "collapsed": true
   },
   "outputs": [],
   "source": []
  }
 ],
 "metadata": {
  "kernelspec": {
   "display_name": "Python 3",
   "language": "python",
   "name": "python3"
  },
  "language_info": {
   "codemirror_mode": {
    "name": "ipython",
    "version": 3
   },
   "file_extension": ".py",
   "mimetype": "text/x-python",
   "name": "python",
   "nbconvert_exporter": "python",
   "pygments_lexer": "ipython3",
   "version": "3.6.2"
  }
 },
 "nbformat": 4,
 "nbformat_minor": 2
}
