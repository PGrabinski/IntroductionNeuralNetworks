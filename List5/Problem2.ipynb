{
 "cells": [
  {
   "cell_type": "code",
   "execution_count": 1,
   "metadata": {
    "collapsed": true
   },
   "outputs": [],
   "source": [
    "from shallownetwork import ShallowNetwork\n",
    "import pandas as pd\n",
    "import numpy as np\n",
    "import matplotlib.pyplot as plt\n",
    "%matplotlib inline"
   ]
  },
  {
   "cell_type": "markdown",
   "metadata": {},
   "source": [
    "# List 5: Problem 2\n",
    "\n",
    "Fit a shallow neural network with 2-4 hidden units to the supplied data."
   ]
  },
  {
   "cell_type": "markdown",
   "metadata": {},
   "source": [
    "Loading and preparing the data."
   ]
  },
  {
   "cell_type": "code",
   "execution_count": 2,
   "metadata": {
    "collapsed": true
   },
   "outputs": [],
   "source": [
    "data = pd.read_csv('sin.dat', names=['X', 'Y', 'DY'], sep='\\t')"
   ]
  },
  {
   "cell_type": "code",
   "execution_count": 3,
   "metadata": {},
   "outputs": [
    {
     "data": {
      "text/html": [
       "<div>\n",
       "<style scoped>\n",
       "    .dataframe tbody tr th:only-of-type {\n",
       "        vertical-align: middle;\n",
       "    }\n",
       "\n",
       "    .dataframe tbody tr th {\n",
       "        vertical-align: top;\n",
       "    }\n",
       "\n",
       "    .dataframe thead th {\n",
       "        text-align: right;\n",
       "    }\n",
       "</style>\n",
       "<table border=\"1\" class=\"dataframe\">\n",
       "  <thead>\n",
       "    <tr style=\"text-align: right;\">\n",
       "      <th></th>\n",
       "      <th>X</th>\n",
       "      <th>Y</th>\n",
       "      <th>DY</th>\n",
       "    </tr>\n",
       "  </thead>\n",
       "  <tbody>\n",
       "    <tr>\n",
       "      <th>0</th>\n",
       "      <td>0.125664</td>\n",
       "      <td>0.253336</td>\n",
       "      <td>0.098665</td>\n",
       "    </tr>\n",
       "    <tr>\n",
       "      <th>1</th>\n",
       "      <td>0.251327</td>\n",
       "      <td>0.281187</td>\n",
       "      <td>0.199361</td>\n",
       "    </tr>\n",
       "    <tr>\n",
       "      <th>2</th>\n",
       "      <td>0.376991</td>\n",
       "      <td>0.250813</td>\n",
       "      <td>0.124933</td>\n",
       "    </tr>\n",
       "    <tr>\n",
       "      <th>3</th>\n",
       "      <td>0.502655</td>\n",
       "      <td>0.677263</td>\n",
       "      <td>0.172386</td>\n",
       "    </tr>\n",
       "    <tr>\n",
       "      <th>4</th>\n",
       "      <td>0.628319</td>\n",
       "      <td>0.764359</td>\n",
       "      <td>0.119524</td>\n",
       "    </tr>\n",
       "  </tbody>\n",
       "</table>\n",
       "</div>"
      ],
      "text/plain": [
       "          X         Y        DY\n",
       "0  0.125664  0.253336  0.098665\n",
       "1  0.251327  0.281187  0.199361\n",
       "2  0.376991  0.250813  0.124933\n",
       "3  0.502655  0.677263  0.172386\n",
       "4  0.628319  0.764359  0.119524"
      ]
     },
     "execution_count": 3,
     "metadata": {},
     "output_type": "execute_result"
    }
   ],
   "source": [
    "data.head()"
   ]
  },
  {
   "cell_type": "code",
   "execution_count": 4,
   "metadata": {
    "collapsed": true
   },
   "outputs": [],
   "source": [
    "X = data.X.values.reshape(-1,1)\n",
    "Y = data.Y.values.reshape(-1,1)\n",
    "DY = data.DY.values.reshape(-1,1)"
   ]
  },
  {
   "cell_type": "markdown",
   "metadata": {},
   "source": [
    "Let's define a function to initialize, train and visualize network. It takes parameters:\n",
    "  1. Loss function\n",
    "  1. Optimizer\n",
    "  1. Epochs\n",
    "  1. X\n",
    "  1. Y\n",
    "  1. DY\n",
    "  1. Size of a batch\n",
    "  1. Number of hidden units\n",
    "  1. Learning rate\n",
    "  1. verbose\n",
    "  1. message_frequency"
   ]
  },
  {
   "cell_type": "code",
   "execution_count": 5,
   "metadata": {
    "collapsed": true
   },
   "outputs": [],
   "source": [
    "def train_and_visualize(loss, optimizer, epochs, X, Y, DY, batch_size, hidden_units, learning_rate,\n",
    "                       verbose=True, message_frequency=1):\n",
    "  network = ShallowNetwork(input_dim=1, hidden_dim=hidden_units, output_dim=1)\n",
    "  network.compile(loss_name=loss, optimizer=optimizer)\n",
    "  network.fit(X, Y, epochs=epochs, batch_size=batch_size, learning_rate=learning_rate,\n",
    "              verbose=verbose, message_frequency=message_frequency)\n",
    "  plt.plot(X, network(X), label='Prediction', c='red')\n",
    "  plt.errorbar(X, Y, yerr=DY, label='Ground truth', c='g', fmt='.k')\n",
    "  plt.xlabel('X')\n",
    "  plt.ylabel('Y')\n",
    "  plt.title(f'Prediction for {loss} and {hidden_units} units.')\n",
    "  plt.legend()\n",
    "  plt.show()"
   ]
  },
  {
   "cell_type": "markdown",
   "metadata": {},
   "source": [
    "We will use the Mean Square Error loss function and optimizing the network with Gradient Descent algorithm."
   ]
  },
  {
   "cell_type": "markdown",
   "metadata": {},
   "source": [
    "## 2 hidden units"
   ]
  },
  {
   "cell_type": "code",
   "execution_count": 6,
   "metadata": {},
   "outputs": [],
   "source": [
    "# train_and_visualize(loss='mse', optimizer='GD', epochs=100000, X=X, Y=Y, DY=DY, batch_size=-1, hidden_units=2,\n",
    "#                    learning_rate=0.001, message_frequency=100000)"
   ]
  },
  {
   "cell_type": "markdown",
   "metadata": {},
   "source": [
    "## 3 hidden units"
   ]
  },
  {
   "cell_type": "code",
   "execution_count": 7,
   "metadata": {},
   "outputs": [],
   "source": [
    "# train_and_visualize(loss='mse', optimizer='GD', epochs=100000, X=X, Y=Y, DY=DY, batch_size=-1, hidden_units=3,\n",
    "#                    learning_rate=0.001, message_frequency=100000)"
   ]
  },
  {
   "cell_type": "markdown",
   "metadata": {},
   "source": [
    "## 4 hidden units"
   ]
  },
  {
   "cell_type": "code",
   "execution_count": 8,
   "metadata": {},
   "outputs": [],
   "source": [
    "# train_and_visualize(loss='mse', optimizer='GD', epochs=100000, X=X, Y=Y, DY=DY, batch_size=-1, hidden_units=4,\n",
    "#                    learning_rate=0.001, message_frequency=100000)"
   ]
  },
  {
   "cell_type": "markdown",
   "metadata": {},
   "source": [
    "## Adagrad\n",
    "\n",
    "Let's see how does adagrad optimizer work in this case."
   ]
  },
  {
   "cell_type": "code",
   "execution_count": 9,
   "metadata": {},
   "outputs": [
    {
     "name": "stdout",
     "output_type": "stream",
     "text": [
      "Epoch: 1 Loss function: 0.25990382978427723\n",
      "Epoch: 1001 Loss function: 0.16473490719415895\n",
      "Epoch: 2001 Loss function: 0.12151622145741113\n",
      "Epoch: 3001 Loss function: 0.09751730133730958\n",
      "Epoch: 4001 Loss function: 0.0844026987325611\n",
      "Epoch: 5001 Loss function: 0.07741331880064481\n",
      "Epoch: 6001 Loss function: 0.07368722495212753\n",
      "Epoch: 7001 Loss function: 0.07162757869975547\n",
      "Epoch: 8001 Loss function: 0.07039556447247838\n",
      "Epoch: 9001 Loss function: 0.06956803695810315\n",
      "Epoch: 10001 Loss function: 0.06893646251728486\n",
      "Epoch: 11001 Loss function: 0.06839916097028081\n",
      "Epoch: 12001 Loss function: 0.06790666889142945\n",
      "Epoch: 13001 Loss function: 0.06743488457782847\n",
      "Epoch: 14001 Loss function: 0.06697206503384058\n",
      "Epoch: 15001 Loss function: 0.0665125516079185\n",
      "Epoch: 16001 Loss function: 0.06605372365193167\n",
      "Epoch: 17001 Loss function: 0.06559449795475639\n",
      "Epoch: 18001 Loss function: 0.06513457419915251\n",
      "Epoch: 19001 Loss function: 0.06467404660018046\n",
      "Epoch: 20001 Loss function: 0.06421319977064617\n",
      "Epoch: 21001 Loss function: 0.0637524000289588\n",
      "Epoch: 22001 Loss function: 0.06329203758012042\n",
      "Epoch: 23001 Loss function: 0.06283249638403804\n",
      "Epoch: 24001 Loss function: 0.062374139205501465\n",
      "Epoch: 25001 Loss function: 0.061917300912691105\n",
      "Epoch: 26001 Loss function: 0.061462286135644584\n",
      "Epoch: 27001 Loss function: 0.061009369119602246\n",
      "Epoch: 28001 Loss function: 0.06055879459926432\n",
      "Epoch: 29001 Loss function: 0.060110779086425904\n",
      "Epoch: 30001 Loss function: 0.059665512278815606\n",
      "Epoch: 31001 Loss function: 0.059223158465792854\n",
      "Epoch: 32001 Loss function: 0.05878385788997924\n",
      "Epoch: 33001 Loss function: 0.05834772806105335\n",
      "Epoch: 34001 Loss function: 0.057914865031235496\n",
      "Epoch: 35001 Loss function: 0.05748534464404349\n",
      "Epoch: 36001 Loss function: 0.05705922376543084\n",
      "Epoch: 37001 Loss function: 0.056636541502758236\n",
      "Epoch: 38001 Loss function: 0.056217320413669156\n",
      "Epoch: 39001 Loss function: 0.05580156770436348\n",
      "Epoch: 40001 Loss function: 0.05538927641505389\n",
      "Epoch: 41001 Loss function: 0.054980426589437095\n",
      "Epoch: 42001 Loss function: 0.05457498642463895\n",
      "Epoch: 43001 Loss function: 0.054172913398139004\n",
      "Epoch: 44001 Loss function: 0.05377415536849277\n",
      "Epoch: 45001 Loss function: 0.05337865164715228\n",
      "Epoch: 46001 Loss function: 0.052986334039235805\n",
      "Epoch: 47001 Loss function: 0.05259712785167242\n",
      "Epoch: 48001 Loss function: 0.05221095286768806\n",
      "Epoch: 49001 Loss function: 0.05182772428708926\n",
      "Epoch: 50001 Loss function: 0.051447353632209446\n",
      "Epoch: 51001 Loss function: 0.051069749619703904\n",
      "Epoch: 52001 Loss function: 0.05069481899859646\n",
      "Epoch: 53001 Loss function: 0.05032246735508717\n",
      "Epoch: 54001 Loss function: 0.049952599884599366\n",
      "Epoch: 55001 Loss function: 0.049585122131345714\n",
      "Epoch: 56001 Loss function: 0.049219940695237205\n",
      "Epoch: 57001 Loss function: 0.04885696390507888\n",
      "Epoch: 58001 Loss function: 0.04849610245528983\n",
      "Epoch: 59001 Loss function: 0.04813726999996657\n",
      "Epoch: 60001 Loss function: 0.04778038369081796\n",
      "Epoch: 61001 Loss function: 0.04742536462898141\n",
      "Epoch: 62001 Loss function: 0.0470721381608861\n",
      "Epoch: 63001 Loss function: 0.04672063384616151\n",
      "Epoch: 64001 Loss function: 0.046368418578634184\n",
      "Epoch: 65001 Loss function: 0.046015692180180076\n",
      "Epoch: 66001 Loss function: 0.04566471044107489\n",
      "Epoch: 67001 Loss function: 0.045315359045425725\n",
      "Epoch: 68001 Loss function: 0.044967411261173415\n",
      "Epoch: 69001 Loss function: 0.04462022302044186\n",
      "Epoch: 70001 Loss function: 0.04427166660327957\n",
      "Epoch: 71001 Loss function: 0.043914745495451636\n",
      "Epoch: 72001 Loss function: 0.04353092582193227\n",
      "Epoch: 73001 Loss function: 0.04311146356469549\n",
      "Epoch: 74001 Loss function: 0.042696757340395824\n",
      "Epoch: 75001 Loss function: 0.04230641469923427\n",
      "Epoch: 76001 Loss function: 0.04192807687687216\n",
      "Epoch: 77001 Loss function: 0.041556456123921226\n",
      "Epoch: 78001 Loss function: 0.041189931104443085\n",
      "Epoch: 79001 Loss function: 0.04082771221530987\n",
      "Epoch: 80001 Loss function: 0.04046937642896971\n",
      "Epoch: 81001 Loss function: 0.04011469703022475\n",
      "Epoch: 82001 Loss function: 0.0397635521242309\n",
      "Epoch: 83001 Loss function: 0.03941587586587666\n",
      "Epoch: 84001 Loss function: 0.03907163257419671\n",
      "Epoch: 85001 Loss function: 0.03873080284927856\n",
      "Epoch: 86001 Loss function: 0.03839225524037702\n",
      "Epoch: 87001 Loss function: 0.03805706503469592\n",
      "Epoch: 88001 Loss function: 0.037725316439584676\n",
      "Epoch: 89001 Loss function: 0.03739700407052635\n",
      "Epoch: 90001 Loss function: 0.03707212311274799\n",
      "Epoch: 91001 Loss function: 0.036750668588331814\n",
      "Epoch: 92001 Loss function: 0.03643263506027195\n",
      "Epoch: 93001 Loss function: 0.03611801646143957\n",
      "Epoch: 94001 Loss function: 0.035806805996444126\n",
      "Epoch: 95001 Loss function: 0.03549899608775621\n",
      "Epoch: 96001 Loss function: 0.035194578349253616\n",
      "Epoch: 97001 Loss function: 0.03489354357711729\n",
      "Epoch: 98001 Loss function: 0.0345950068214145\n",
      "Epoch: 99001 Loss function: 0.03429795111284664\n",
      "Final loss function: 0.034004669422865785\n"
     ]
    },
    {
     "data": {
      "image/png": "[encoded data removed]",
      "text/plain": [
       "<matplotlib.figure.Figure at 0x7f0f038bf278>"
      ]
     },
     "metadata": {},
     "output_type": "display_data"
    }
   ],
   "source": [
    "train_and_visualize(loss='mse', optimizer='Adagrad', epochs=100000, X=X, Y=Y, DY=DY, batch_size=-1, hidden_units=2,\n",
    "                   learning_rate=0.01, message_frequency=1000)"
   ]
  },
  {
   "cell_type": "code",
   "execution_count": null,
   "metadata": {
    "collapsed": true
   },
   "outputs": [],
   "source": []
  }
 ],
 "metadata": {
  "kernelspec": {
   "display_name": "Python 3",
   "language": "python",
   "name": "python3"
  },
  "language_info": {
   "codemirror_mode": {
    "name": "ipython",
    "version": 3
   },
   "file_extension": ".py",
   "mimetype": "text/x-python",
   "name": "python",
   "nbconvert_exporter": "python",
   "pygments_lexer": "ipython3",
   "version": "3.6.2"
  }
 },
 "nbformat": 4,
 "nbformat_minor": 2
}
