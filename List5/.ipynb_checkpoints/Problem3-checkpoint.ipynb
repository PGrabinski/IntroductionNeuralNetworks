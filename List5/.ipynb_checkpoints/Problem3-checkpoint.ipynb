{
 "cells": [
  {
   "cell_type": "code",
   "execution_count": 1,
   "metadata": {
    "collapsed": true
   },
   "outputs": [],
   "source": [
    "from shallownetwork import ShallowNetwork\n",
    "import pandas as pd\n",
    "import numpy as np\n",
    "import matplotlib.pyplot as plt\n",
    "%matplotlib inline"
   ]
  },
  {
   "cell_type": "markdown",
   "metadata": {},
   "source": [
    "# List 5: Problem 3\n",
    "\n",
    "Fit a shallow neural network with 2-4 hidden units to the supplied data. This time, use Chi-squared as the loss function."
   ]
  },
  {
   "cell_type": "markdown",
   "metadata": {},
   "source": [
    "Loading and preparing the data."
   ]
  },
  {
   "cell_type": "code",
   "execution_count": 2,
   "metadata": {
    "collapsed": true
   },
   "outputs": [],
   "source": [
    "data = pd.read_csv('sin.dat', names=['X', 'Y', 'DY'], sep='\\t')"
   ]
  },
  {
   "cell_type": "code",
   "execution_count": 3,
   "metadata": {},
   "outputs": [
    {
     "data": {
      "text/html": [
       "<div>\n",
       "<style scoped>\n",
       "    .dataframe tbody tr th:only-of-type {\n",
       "        vertical-align: middle;\n",
       "    }\n",
       "\n",
       "    .dataframe tbody tr th {\n",
       "        vertical-align: top;\n",
       "    }\n",
       "\n",
       "    .dataframe thead th {\n",
       "        text-align: right;\n",
       "    }\n",
       "</style>\n",
       "<table border=\"1\" class=\"dataframe\">\n",
       "  <thead>\n",
       "    <tr style=\"text-align: right;\">\n",
       "      <th></th>\n",
       "      <th>X</th>\n",
       "      <th>Y</th>\n",
       "      <th>DY</th>\n",
       "    </tr>\n",
       "  </thead>\n",
       "  <tbody>\n",
       "    <tr>\n",
       "      <th>0</th>\n",
       "      <td>0.125664</td>\n",
       "      <td>0.253336</td>\n",
       "      <td>0.098665</td>\n",
       "    </tr>\n",
       "    <tr>\n",
       "      <th>1</th>\n",
       "      <td>0.251327</td>\n",
       "      <td>0.281187</td>\n",
       "      <td>0.199361</td>\n",
       "    </tr>\n",
       "    <tr>\n",
       "      <th>2</th>\n",
       "      <td>0.376991</td>\n",
       "      <td>0.250813</td>\n",
       "      <td>0.124933</td>\n",
       "    </tr>\n",
       "    <tr>\n",
       "      <th>3</th>\n",
       "      <td>0.502655</td>\n",
       "      <td>0.677263</td>\n",
       "      <td>0.172386</td>\n",
       "    </tr>\n",
       "    <tr>\n",
       "      <th>4</th>\n",
       "      <td>0.628319</td>\n",
       "      <td>0.764359</td>\n",
       "      <td>0.119524</td>\n",
       "    </tr>\n",
       "  </tbody>\n",
       "</table>\n",
       "</div>"
      ],
      "text/plain": [
       "          X         Y        DY\n",
       "0  0.125664  0.253336  0.098665\n",
       "1  0.251327  0.281187  0.199361\n",
       "2  0.376991  0.250813  0.124933\n",
       "3  0.502655  0.677263  0.172386\n",
       "4  0.628319  0.764359  0.119524"
      ]
     },
     "execution_count": 3,
     "metadata": {},
     "output_type": "execute_result"
    }
   ],
   "source": [
    "data.head()"
   ]
  },
  {
   "cell_type": "code",
   "execution_count": 4,
   "metadata": {
    "collapsed": true
   },
   "outputs": [],
   "source": [
    "X = data.X.values.reshape(-1,1)\n",
    "Y = data.Y.values.reshape(-1,1)\n",
    "DY = data.DY.values.reshape(-1,1)"
   ]
  },
  {
   "cell_type": "markdown",
   "metadata": {},
   "source": [
    "Let's define a function to initialize, train and visualize network. It takes parameters:\n",
    "  1. Loss function\n",
    "  1. Optimizer\n",
    "  1. Epochs\n",
    "  1. X\n",
    "  1. Y\n",
    "  1. DY\n",
    "  1. Size of a batch\n",
    "  1. Number of hidden units\n",
    "  1. Learning rate\n",
    "  1. verbose\n",
    "  1. message_frequency"
   ]
  },
  {
   "cell_type": "code",
   "execution_count": 5,
   "metadata": {
    "collapsed": true
   },
   "outputs": [],
   "source": [
    "def train_and_visualize(loss, optimizer, epochs, X, Y, DY, batch_size, hidden_units, learning_rate,\n",
    "                       verbose=True, message_frequency=1):\n",
    "  network = ShallowNetwork(input_dim=1, hidden_dim=hidden_units, output_dim=1)\n",
    "  network.compile(loss_name=loss, optimizer=optimizer)\n",
    "  network.fit(X, Y, epochs=epochs, batch_size=batch_size, learning_rate=learning_rate,\n",
    "              verbose=verbose, message_frequency=message_frequency, DY=DY)\n",
    "  plt.plot(X, network(X), label='Prediction', c='red')\n",
    "  plt.errorbar(X, Y, yerr=DY, label='Ground truth', c='g', fmt='.k')\n",
    "  plt.xlabel('X')\n",
    "  plt.ylabel('Y')\n",
    "  plt.title(f'Prediction for {loss} and {hidden_units} units.')\n",
    "  plt.legend()\n",
    "  plt.show()"
   ]
  },
  {
   "cell_type": "markdown",
   "metadata": {},
   "source": [
    "We will use the Chi-squared loss function and optimizing the network with Gradient Descent algorithm."
   ]
  },
  {
   "cell_type": "markdown",
   "metadata": {},
   "source": [
    "## 2 hidden units"
   ]
  },
  {
   "cell_type": "code",
   "execution_count": 43,
   "metadata": {},
   "outputs": [
    {
     "name": "stdout",
     "output_type": "stream",
     "text": [
      "Epoch: 1 Loss function: 17329.390549215015\n",
      "Epoch: 10001 Loss function: 348.782954173789\n",
      "Epoch: 20001 Loss function: 293.84872022367404\n",
      "Epoch: 30001 Loss function: 223.3020475322358\n",
      "Epoch: 40001 Loss function: 182.88848842654957\n",
      "Epoch: 50001 Loss function: 177.0723295086376\n",
      "Epoch: 60001 Loss function: 174.28237695002395\n",
      "Epoch: 70001 Loss function: 172.27993631163778\n",
      "Epoch: 80001 Loss function: 170.86386161253975\n",
      "Epoch: 90001 Loss function: 169.7434402368757\n",
      "Epoch: 100001 Loss function: 168.85640728310068\n",
      "Epoch: 110001 Loss function: 168.16097431229778\n",
      "Epoch: 120001 Loss function: 167.6123574350259\n",
      "Epoch: 130001 Loss function: 167.16321922680757\n",
      "Epoch: 140001 Loss function: 166.80113987230683\n",
      "Epoch: 150001 Loss function: 166.51260044849187\n",
      "Epoch: 160001 Loss function: 166.2792457394651\n",
      "Epoch: 170001 Loss function: 166.08020109534417\n",
      "Epoch: 180001 Loss function: 165.9075887731022\n",
      "Epoch: 190001 Loss function: 165.74855192737223\n",
      "Epoch: 200001 Loss function: 165.55668391010587\n",
      "Epoch: 210001 Loss function: 165.38160454272395\n",
      "Epoch: 220001 Loss function: 165.21962556521893\n",
      "Epoch: 230001 Loss function: 165.06698584760818\n",
      "Epoch: 240001 Loss function: 164.92210621823529\n",
      "Final loss function: 164.78612181356084\n"
     ]
    },
    {
     "data": {
      "image/png": "[encoded data removed]",
      "text/plain": [
       "<matplotlib.figure.Figure at 0x7f9d411b5cf8>"
      ]
     },
     "metadata": {},
     "output_type": "display_data"
    }
   ],
   "source": [
    "train_and_visualize(loss='chi_squared', optimizer='GD', epochs=250000, X=X, Y=Y, DY=DY, batch_size=-1,\n",
    "                    hidden_units=2, learning_rate=0.00001, verbose=True, message_frequency=10000)"
   ]
  },
  {
   "cell_type": "markdown",
   "metadata": {},
   "source": [
    "## 3 hidden units"
   ]
  },
  {
   "cell_type": "code",
   "execution_count": 11,
   "metadata": {},
   "outputs": [
    {
     "name": "stdout",
     "output_type": "stream",
     "text": [
      "Epoch: 1 Loss function: 17828.717653637323\n",
      "Epoch: 10001 Loss function: 317.66052591077596\n",
      "Epoch: 20001 Loss function: 209.592040691104\n",
      "Epoch: 30001 Loss function: 120.02746864037671\n",
      "Epoch: 40001 Loss function: 74.52121707567595\n",
      "Epoch: 50001 Loss function: 54.38394088230973\n",
      "Epoch: 60001 Loss function: 45.473989481518394\n",
      "Epoch: 70001 Loss function: 41.29453648063671\n",
      "Epoch: 80001 Loss function: 39.13646467078549\n",
      "Epoch: 90001 Loss function: 37.91690436610408\n",
      "Final loss function: 37.21419343783735\n"
     ]
    },
    {
     "data": {
      "image/png": "[encoded data removed]",
      "text/plain": [
       "<matplotlib.figure.Figure at 0x7f9d40e53438>"
      ]
     },
     "metadata": {},
     "output_type": "display_data"
    }
   ],
   "source": [
    "train_and_visualize(loss='chi_squared', optimizer='GD', epochs=100000, X=X, Y=Y, DY=DY, batch_size=-1,\n",
    "                    hidden_units=3, learning_rate=0.00001, verbose=True, message_frequency=10000)"
   ]
  },
  {
   "cell_type": "markdown",
   "metadata": {},
   "source": [
    "## 4 hidden units"
   ]
  },
  {
   "cell_type": "code",
   "execution_count": 19,
   "metadata": {},
   "outputs": [
    {
     "name": "stdout",
     "output_type": "stream",
     "text": [
      "Epoch: 1 Loss function: 18250.67609760934\n",
      "Epoch: 10001 Loss function: 325.07991879972093\n",
      "Epoch: 20001 Loss function: 207.91455904032046\n",
      "Epoch: 30001 Loss function: 162.8093349290637\n",
      "Epoch: 40001 Loss function: 105.92032312625018\n",
      "Epoch: 50001 Loss function: 75.39421551341658\n",
      "Epoch: 60001 Loss function: 58.46100112142902\n",
      "Epoch: 70001 Loss function: 49.0379062981439\n",
      "Epoch: 80001 Loss function: 43.55602916030165\n",
      "Epoch: 90001 Loss function: 40.44730183310032\n",
      "Final loss function: 39.36847330525692\n"
     ]
    },
    {
     "data": {
      "image/png": "[encoded data removed]",
      "text/plain": [
       "<matplotlib.figure.Figure at 0x7f9d40bd9dd8>"
      ]
     },
     "metadata": {},
     "output_type": "display_data"
    }
   ],
   "source": [
    "train_and_visualize(loss='chi_squared', optimizer='GD', epochs=100000, X=X, Y=Y, DY=DY, batch_size=-1,\n",
    "                    hidden_units=4, learning_rate=0.000005, verbose=True, message_frequency=10000)"
   ]
  },
  {
   "cell_type": "markdown",
   "metadata": {
    "collapsed": true
   },
   "source": [
    "The change of loss from MSE to Chi-square leads to less stable training. It requires more training attempts to find a proper solution."
   ]
  },
  {
   "cell_type": "code",
   "execution_count": null,
   "metadata": {
    "collapsed": true
   },
   "outputs": [],
   "source": []
  }
 ],
 "metadata": {
  "kernelspec": {
   "display_name": "Python 3",
   "language": "python",
   "name": "python3"
  },
  "language_info": {
   "codemirror_mode": {
    "name": "ipython",
    "version": 3
   },
   "file_extension": ".py",
   "mimetype": "text/x-python",
   "name": "python",
   "nbconvert_exporter": "python",
   "pygments_lexer": "ipython3",
   "version": "3.6.2"
  }
 },
 "nbformat": 4,
 "nbformat_minor": 2
}
