{
 "cells": [
  {
   "cell_type": "code",
   "execution_count": 1,
   "metadata": {
    "collapsed": true
   },
   "outputs": [],
   "source": [
    "import numpy as np\n",
    "import matplotlib.pyplot as plt\n",
    "import pandas as pd\n",
    "from neuron import Neuron"
   ]
  },
  {
   "cell_type": "markdown",
   "metadata": {
    "colab_type": "text",
    "id": "a__zguNblCLT"
   },
   "source": [
    "# Neural Networks: List4 - Problem 2\n",
    "\n",
    "Problem 1 was implemented in the neuron.py file.\n",
    "\n",
    "Problem 2: Using the fameous Iris dataset use the Neuron class to preform classification."
   ]
  },
  {
   "cell_type": "markdown",
   "metadata": {},
   "source": [
    "Downloading the dataset."
   ]
  },
  {
   "cell_type": "code",
   "execution_count": 2,
   "metadata": {},
   "outputs": [],
   "source": [
    "iris = pd.read_csv('https://archive.ics.uci.edu/ml/machine-learning-databases/iris/iris.data', header=None)"
   ]
  },
  {
   "cell_type": "markdown",
   "metadata": {},
   "source": [
    "It conatins 3 different classes, but we want to discriminate *Iris setosa* vs others."
   ]
  },
  {
   "cell_type": "code",
   "execution_count": 4,
   "metadata": {},
   "outputs": [
    {
     "data": {
      "text/plain": [
       "array(['Iris-setosa', 'Iris-versicolor', 'Iris-virginica'], dtype=object)"
      ]
     },
     "execution_count": 4,
     "metadata": {},
     "output_type": "execute_result"
    }
   ],
   "source": [
    "iris.iloc[:,4].unique()"
   ]
  },
  {
   "cell_type": "markdown",
   "metadata": {},
   "source": [
    "We construct feature and target sets."
   ]
  },
  {
   "cell_type": "code",
   "execution_count": 5,
   "metadata": {
    "collapsed": true
   },
   "outputs": [],
   "source": [
    "targets = iris.iloc[:100,4].apply(lambda x: x == 'Iris-setosa').values.reshape((-1,1)).astype('int32')"
   ]
  },
  {
   "cell_type": "code",
   "execution_count": 6,
   "metadata": {
    "collapsed": true
   },
   "outputs": [],
   "source": [
    "samples = iris.iloc[0:100, [0, 2]].values.astype('float64')"
   ]
  },
  {
   "cell_type": "markdown",
   "metadata": {},
   "source": [
    "Then, we initialize a Neuron object and train it with the data."
   ]
  },
  {
   "cell_type": "code",
   "execution_count": 7,
   "metadata": {
    "collapsed": true
   },
   "outputs": [],
   "source": [
    "neuron = Neuron(loss_function='Cross_entropy', input_dimension=2)"
   ]
  },
  {
   "cell_type": "code",
   "execution_count": 8,
   "metadata": {},
   "outputs": [
    {
     "name": "stdout",
     "output_type": "stream",
     "text": [
      "Epoch: 1 Loss: 200.82316870173187\n",
      "Epoch: 101 Loss: 0.2187832349390627\n",
      "Epoch: 201 Loss: 0.11738947357884401\n",
      "Epoch: 301 Loss: 0.08280989188542787\n",
      "Epoch: 401 Loss: 0.0648465602971421\n",
      "Epoch: 501 Loss: 0.05369104703480654\n",
      "Epoch: 601 Loss: 0.04602880321427783\n",
      "Epoch: 701 Loss: 0.040411767849868885\n",
      "Epoch: 801 Loss: 0.03610159989224151\n",
      "Epoch: 901 Loss: 0.03268037550451366\n"
     ]
    }
   ],
   "source": [
    "logs = neuron.fit(samples, targets, epochs=1000, learning_rate=0.1, batch_size=1, message_frequency=100, verbose=False)"
   ]
  },
  {
   "cell_type": "markdown",
   "metadata": {},
   "source": [
    "Time for some plotting.\n",
    "\n",
    "First, there is a plot of the separation.\n",
    "\n",
    "Then, there is plot of the loss function during the training precedure."
   ]
  },
  {
   "cell_type": "code",
   "execution_count": 3,
   "metadata": {
    "collapsed": true
   },
   "outputs": [],
   "source": [
    "def plot(neuron, samples):\n",
    "  plt.scatter(samples[:50, 0], samples[:50, 1], marker='+', label='Class 1', c='r')\n",
    "  plt.scatter(samples[50:, 0], samples[50:, 1], marker='x', label='Class 0', c='b')\n",
    "  X_plot = np.arange(3,8,0.01)\n",
    "  Y_plot = X_plot * (-neuron.weights[0,0]/neuron.weights[0,1]) + neuron.bias/neuron.weights[0,1]\n",
    "  plt.plot(X_plot, Y_plot, label='Decision boundary', c='g')\n",
    "  plt.xlabel('Feature 1')\n",
    "  plt.ylabel('Feature 2')\n",
    "  plt.title('Separation of the two classes')\n",
    "  plt.legend()\n",
    "  plt.show()"
   ]
  },
  {
   "cell_type": "code",
   "execution_count": 9,
   "metadata": {},
   "outputs": [
    {
     "data": {
      "image/png": "[encoded data removed]",
      "text/plain": [
       "<matplotlib.figure.Figure at 0x7f8c40544b38>"
      ]
     },
     "metadata": {},
     "output_type": "display_data"
    }
   ],
   "source": [
    "plot(neuron, samples)"
   ]
  },
  {
   "cell_type": "code",
   "execution_count": 10,
   "metadata": {},
   "outputs": [
    {
     "data": {
      "image/png": "[encoded data removed]",
      "text/plain": [
       "<matplotlib.figure.Figure at 0x7f8c3dc820b8>"
      ]
     },
     "metadata": {},
     "output_type": "display_data"
    }
   ],
   "source": [
    "plt.plot(range(1,len(logs)+1), logs)\n",
    "plt.xlabel('Epochs')\n",
    "plt.ylabel('Loss')\n",
    "plt.title('Loss function during training')\n",
    "plt.show()"
   ]
  },
  {
   "cell_type": "code",
   "execution_count": null,
   "metadata": {
    "collapsed": true
   },
   "outputs": [],
   "source": []
  }
 ],
 "metadata": {
  "kernelspec": {
   "display_name": "Python 3",
   "language": "python",
   "name": "python3"
  },
  "language_info": {
   "codemirror_mode": {
    "name": "ipython",
    "version": 3
   },
   "file_extension": ".py",
   "mimetype": "text/x-python",
   "name": "python",
   "nbconvert_exporter": "python",
   "pygments_lexer": "ipython3",
   "version": "3.6.2"
  }
 },
 "nbformat": 4,
 "nbformat_minor": 2
}
