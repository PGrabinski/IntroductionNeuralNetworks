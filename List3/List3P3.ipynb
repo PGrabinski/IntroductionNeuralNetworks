{
 "cells": [
  {
   "cell_type": "code",
   "execution_count": 10,
   "metadata": {
    "collapsed": true
   },
   "outputs": [],
   "source": [
    "import numpy as np\n",
    "import matplotlib.pyplot as plt\n",
    "import matplotlib.patches as patches\n",
    "from scipy.stats import norm\n",
    "import pandas as pd"
   ]
  },
  {
   "cell_type": "markdown",
   "metadata": {
    "colab_type": "text",
    "id": "a__zguNblCLT"
   },
   "source": [
    "# Neural Networks: List3 - Problem 3"
   ]
  },
  {
   "cell_type": "code",
   "execution_count": 3,
   "metadata": {
    "colab": {
     "base_uri": "https://localhost:8080/",
     "height": 53
    },
    "colab_type": "code",
    "id": "B4d1dbpJlDil",
    "outputId": "497e30b9-d22e-4459-989f-31889a54e4ee"
   },
   "outputs": [
    {
     "data": {
      "text/plain": [
       "array([[ 0.01425566,  0.02339439],\n",
       "       [ 0.02339439,  1.69788232]])"
      ]
     },
     "execution_count": 3,
     "metadata": {},
     "output_type": "execute_result"
    }
   ],
   "source": [
    "cov_matrix_A = np.random.random(size=(2,2))\n",
    "cov_matrix_A[0, 0] *= 3\n",
    "cov_matrix_A[1, 1] *= 3\n",
    "cov_matrix_A[0, 1] = cov_matrix_A[0, 0] * cov_matrix_A[1, 1] * cov_matrix_A[0, 1]\n",
    "cov_matrix_A[1, 0] = cov_matrix_A[0, 1]\n",
    "cov_matrix_A"
   ]
  },
  {
   "cell_type": "code",
   "execution_count": 4,
   "metadata": {},
   "outputs": [
    {
     "data": {
      "text/plain": [
       "array([[ 1.71621517,  0.88292704],\n",
       "       [ 0.88292704,  0.9673163 ]])"
      ]
     },
     "execution_count": 4,
     "metadata": {},
     "output_type": "execute_result"
    }
   ],
   "source": [
    "cov_matrix_B = np.random.random(size=(2,2))\n",
    "cov_matrix_B[0, 0] *= 3\n",
    "cov_matrix_B[1, 1] *= 3\n",
    "cov_matrix_B[0, 1] = cov_matrix_B[0, 0] * cov_matrix_B[1, 1] * cov_matrix_B[0, 1]\n",
    "cov_matrix_B[1, 0] = cov_matrix_B[0, 1]\n",
    "cov_matrix_B"
   ]
  },
  {
   "cell_type": "code",
   "execution_count": 5,
   "metadata": {
    "colab": {},
    "colab_type": "code",
    "collapsed": true,
    "id": "maV6h7EXmz2s"
   },
   "outputs": [],
   "source": [
    "expecatation_value1 = np.random.random(size=(2,))*5-1\n",
    "expecatation_value2 = np.random.random(size=(2,))*5-1"
   ]
  },
  {
   "cell_type": "code",
   "execution_count": 7,
   "metadata": {
    "colab": {},
    "colab_type": "code",
    "id": "lNoVrHGKlvtf"
   },
   "outputs": [],
   "source": [
    "samples_number = 100\n",
    "set1 = np.random.multivariate_normal(size=samples_number, mean=expecatation_value1, cov=cov_matrix_A)\n",
    "set2 = np.random.multivariate_normal(size=samples_number, mean=expecatation_value2, cov=cov_matrix_B)"
   ]
  },
  {
   "cell_type": "code",
   "execution_count": 23,
   "metadata": {},
   "outputs": [],
   "source": [
    "def plot_dists_with_elipses(A, B, n=1, line=None):\n",
    "  def eigsorted(cov):\n",
    "    vals, vecs = np.linalg.eigh(cov)\n",
    "    order = vals.argsort()[::-1]\n",
    "    return vals[order], vecs[:,order]\n",
    "  df_A = pd.DataFrame(A, columns=['x1', 'x2'])\n",
    "  df_B = pd.DataFrame(B, columns=['x1', 'x2'])\n",
    "  \n",
    "  eig_values_A, eig_vectors_A = eigsorted(df_A.corr())\n",
    "  eig_values_B, eig_vectors_B = eigsorted(df_B.corr())\n",
    "  \n",
    "  width_A, height_A = 2 * n * np.sqrt(eig_values_A)\n",
    "  width_B, height_B = 2 * n * np.sqrt(eig_values_B)\n",
    "  \n",
    "  theta_A = np.degrees(np.arctan2(*eig_vectors_A[:,0][::-1]))\n",
    "  theta_B = np.degrees(np.arctan2(*eig_vectors_B[:,0][::-1]))\n",
    "  \n",
    "  e1 = patches.Ellipse(df_A.mean(), width_A, height_A, linewidth=2, fill=False, angle=theta_A, color='orange')\n",
    "  e2 = patches.Ellipse(df_B.mean(), width_B, height_B, linewidth=2, fill=False, angle=theta_B, color='blue')\n",
    "  \n",
    "  plt.scatter(x=set1[:,0], y=set1[:,1], marker='+', color='xkcd:goldenrod', label='Set 1')\n",
    "  plt.scatter(x=set2[:,0], y=set2[:,1], marker='x', color='xkcd:sky blue', label='Set 2')\n",
    "  \n",
    "  if not (line is None):\n",
    "    xp = np.arange(-4,6, 0.01)\n",
    "    plt.plot(xp, line(xp))\n",
    "  \n",
    "  plt.xlabel(r'$x_1$')\n",
    "  plt.ylabel(r'$x_2$')\n",
    "  plt.title(r'Normal distributions with $1-\\sigma$ confidence elipses')\n",
    "  plt.legend()\n",
    "  \n",
    "  ax = plt.gca()\n",
    "  ax.add_artist(e1)\n",
    "  ax.add_artist(e2)\n",
    "  plt.show()"
   ]
  },
  {
   "cell_type": "code",
   "execution_count": 24,
   "metadata": {},
   "outputs": [
    {
     "data": {
      "image/png": "[encoded data removed]",
      "text/plain": [
       "<matplotlib.figure.Figure at 0x7ff916c64860>"
      ]
     },
     "metadata": {},
     "output_type": "display_data"
    }
   ],
   "source": [
    "plot_dists_with_elipses(set1, set2)"
   ]
  },
  {
   "cell_type": "code",
   "execution_count": null,
   "metadata": {
    "collapsed": true
   },
   "outputs": [],
   "source": [
    "def "
   ]
  }
 ],
 "metadata": {
  "kernelspec": {
   "display_name": "Python 3",
   "language": "python",
   "name": "python3"
  },
  "language_info": {
   "codemirror_mode": {
    "name": "ipython",
    "version": 3
   },
   "file_extension": ".py",
   "mimetype": "text/x-python",
   "name": "python",
   "nbconvert_exporter": "python",
   "pygments_lexer": "ipython3",
   "version": "3.6.2"
  }
 },
 "nbformat": 4,
 "nbformat_minor": 2
}
