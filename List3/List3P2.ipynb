{
 "cells": [
  {
   "cell_type": "code",
   "execution_count": 1,
   "metadata": {
    "collapsed": true
   },
   "outputs": [],
   "source": [
    "import numpy as np\n",
    "import matplotlib.pyplot as plt\n",
    "import matplotlib.patches as patches\n",
    "from scipy.stats import norm\n",
    "import pandas as pd"
   ]
  },
  {
   "cell_type": "markdown",
   "metadata": {
    "colab_type": "text",
    "id": "a__zguNblCLT"
   },
   "source": [
    "# Neural Networks: List3 - Problem 2"
   ]
  },
  {
   "cell_type": "markdown",
   "metadata": {},
   "source": [
    "Using the fact that $cov(X,Y)=\\rho \\sigma^2_X\\sigma_Y^2$ and $\\rho\\in[0,1]$."
   ]
  },
  {
   "cell_type": "code",
   "execution_count": 2,
   "metadata": {
    "colab": {
     "base_uri": "https://localhost:8080/",
     "height": 53
    },
    "colab_type": "code",
    "id": "B4d1dbpJlDil",
    "outputId": "497e30b9-d22e-4459-989f-31889a54e4ee"
   },
   "outputs": [
    {
     "data": {
      "text/plain": [
       "array([[ 1.26374363,  0.11321829],\n",
       "       [ 0.11321829,  0.47001401]])"
      ]
     },
     "execution_count": 2,
     "metadata": {},
     "output_type": "execute_result"
    }
   ],
   "source": [
    "cov_matrix = np.random.random(size=(2,2))\n",
    "cov_matrix[0, 0] *= 2\n",
    "cov_matrix[1, 1] *= 2\n",
    "cov_matrix[0, 1] = cov_matrix[0, 0] * cov_matrix[1, 1] * cov_matrix[0, 1]\n",
    "cov_matrix[1, 0] = cov_matrix[0, 1]\n",
    "cov_matrix"
   ]
  },
  {
   "cell_type": "code",
   "execution_count": 3,
   "metadata": {
    "colab": {},
    "colab_type": "code",
    "collapsed": true,
    "id": "maV6h7EXmz2s"
   },
   "outputs": [],
   "source": [
    "expecatation_value1 = np.array([1, 1])\n",
    "expecatation_value2 = np.array([3, 3])"
   ]
  },
  {
   "cell_type": "code",
   "execution_count": 4,
   "metadata": {
    "colab": {},
    "colab_type": "code",
    "id": "lNoVrHGKlvtf"
   },
   "outputs": [],
   "source": [
    "samples_number = 100\n",
    "set1 = np.random.multivariate_normal(size=samples_number, mean=expecatation_value1, cov=cov_matrix)\n",
    "set2 = np.random.multivariate_normal(size=samples_number, mean=expecatation_value2, cov=cov_matrix)"
   ]
  },
  {
   "cell_type": "code",
   "execution_count": 5,
   "metadata": {
    "colab": {},
    "colab_type": "code",
    "collapsed": true,
    "id": "XcjETFsUn-51"
   },
   "outputs": [],
   "source": [
    "# def discriminant(xp, A, B):\n",
    "#   A_mean = A.mean()\n",
    "#   B_mean = B.mean()\n",
    "#   A_cov = A.corr()\n",
    "#   B_cov = B.corr()\n",
    "#   cov_inv = np.linalg.inv(A_cov)\n",
    "#   mu_diff_times_cov_inv = (B_mean - A_mean) @ cov_inv\n",
    "#   y = mu_diff_times_cov_inv[1]**-1 * (-mu_diff_times_cov_inv[0]*xp + 0.5 * (B_mean @ B_cov @ B_mean - A_mean @ A_cov @ A_mean))\n",
    "#   return y"
   ]
  },
  {
   "cell_type": "code",
   "execution_count": 6,
   "metadata": {
    "collapsed": true
   },
   "outputs": [],
   "source": [
    "def plot_dists_with_elipses(A, B, n=1):\n",
    "  def eigsorted(cov):\n",
    "    vals, vecs = np.linalg.eigh(cov)\n",
    "    order = vals.argsort()[::-1]\n",
    "    return vals[order], vecs[:,order]\n",
    "  df_A = pd.DataFrame(A, columns=['x1', 'x2'])\n",
    "  df_B = pd.DataFrame(B, columns=['x1', 'x2'])\n",
    "  \n",
    "  eig_values_A, eig_vectors_A = eigsorted(df_A.cov())\n",
    "  eig_values_B, eig_vectors_B = eigsorted(df_B.cov())\n",
    "  \n",
    "  width_A, height_A = 2 * n * np.sqrt(eig_values_A)\n",
    "  width_B, height_B = 2 * n * np.sqrt(eig_values_B)\n",
    "  \n",
    "  theta_A = np.degrees(np.arctan2(*eig_vectors_A[:,0][::-1]))\n",
    "  theta_B = np.degrees(np.arctan2(*eig_vectors_B[:,0][::-1]))\n",
    "  \n",
    "  e1 = patches.Ellipse(df_A.mean(), width_A, height_A, linewidth=2, fill=False, angle=theta_A, color='orange')\n",
    "  e2 = patches.Ellipse(df_B.mean(), width_B, height_B, linewidth=2, fill=False, angle=theta_B, color='blue')\n",
    "  \n",
    "  plt.scatter(x=set1[:,0], y=set1[:,1], marker='+', color='xkcd:goldenrod', label='Set 1')\n",
    "  plt.scatter(x=set2[:,0], y=set2[:,1], marker='x', color='xkcd:sky blue', label='Set 2')\n",
    "  \n",
    "  mean_A = df_A.mean()\n",
    "  mean_B = df_B.mean()\n",
    "  inv_sigma_A = np.linalg.inv(df_A.cov())\n",
    "  inv_sigma_B = np.linalg.inv(df_B.cov())\n",
    "  wT = (mean_B  @ inv_sigma_B - mean_A @ inv_sigma_A)\n",
    "  w0 = 0.5*(mean_B.T @ inv_sigma_B @ mean_B - mean_A.T @ inv_sigma_A @ mean_A)\n",
    "  \n",
    "  X_plot = np.arange(-2,6,0.01)\n",
    "  Y_plot = X_plot * (-wT[0]/wT[1]) + w0/wT[1]\n",
    "  plt.plot(X_plot, Y_plot)\n",
    "  \n",
    "  plt.xlim(-2,4)\n",
    "  plt.ylim(-2, 6)\n",
    "  plt.xlabel(r'$x_1$')\n",
    "  plt.ylabel(r'$x_2$')\n",
    "  plt.title(r'Normal distributions with $1-\\sigma$ confidence elipses')\n",
    "  plt.legend()\n",
    "  \n",
    "  ax = plt.gca()\n",
    "  ax.add_artist(e1)\n",
    "  ax.add_artist(e2)\n",
    "  \n",
    "  plt.show()"
   ]
  },
  {
   "cell_type": "code",
   "execution_count": 7,
   "metadata": {},
   "outputs": [
    {
     "data": {
      "image/png": "[encoded data removed]",
      "text/plain": [
       "<matplotlib.figure.Figure at 0x7f1a3ebaab00>"
      ]
     },
     "metadata": {},
     "output_type": "display_data"
    }
   ],
   "source": [
    "plot_dists_with_elipses(set1, set2, n=1)"
   ]
  },
  {
   "cell_type": "code",
   "execution_count": null,
   "metadata": {
    "collapsed": true
   },
   "outputs": [],
   "source": []
  }
 ],
 "metadata": {
  "kernelspec": {
   "display_name": "Python 3",
   "language": "python",
   "name": "python3"
  },
  "language_info": {
   "codemirror_mode": {
    "name": "ipython",
    "version": 3
   },
   "file_extension": ".py",
   "mimetype": "text/x-python",
   "name": "python",
   "nbconvert_exporter": "python",
   "pygments_lexer": "ipython3",
   "version": "3.6.2"
  }
 },
 "nbformat": 4,
 "nbformat_minor": 2
}
