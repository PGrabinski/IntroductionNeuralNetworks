{
 "cells": [
  {
   "cell_type": "code",
   "execution_count": 12,
   "metadata": {
    "collapsed": true
   },
   "outputs": [],
   "source": [
    "import numpy as np\n",
    "import matplotlib.pyplot as plt\n",
    "import matplotlib.patches as patches\n",
    "from scipy.stats import norm\n",
    "import pandas as pd"
   ]
  },
  {
   "cell_type": "markdown",
   "metadata": {
    "colab_type": "text",
    "id": "a__zguNblCLT"
   },
   "source": [
    "# Neural Networks: List3 - Problem 3"
   ]
  },
  {
   "cell_type": "code",
   "execution_count": 13,
   "metadata": {
    "colab": {
     "base_uri": "https://localhost:8080/",
     "height": 53
    },
    "colab_type": "code",
    "id": "B4d1dbpJlDil",
    "outputId": "497e30b9-d22e-4459-989f-31889a54e4ee"
   },
   "outputs": [
    {
     "data": {
      "text/plain": [
       "array([[ 2.75377243,  2.85056397],\n",
       "       [ 2.85056397,  1.60907531]])"
      ]
     },
     "execution_count": 13,
     "metadata": {},
     "output_type": "execute_result"
    }
   ],
   "source": [
    "cov_matrix_A = np.random.random(size=(2,2))\n",
    "cov_matrix_A[0, 0] *= 3\n",
    "cov_matrix_A[1, 1] *= 3\n",
    "cov_matrix_A[0, 1] = cov_matrix_A[0, 0] * cov_matrix_A[1, 1] * cov_matrix_A[0, 1]\n",
    "cov_matrix_A[1, 0] = cov_matrix_A[0, 1]\n",
    "cov_matrix_A"
   ]
  },
  {
   "cell_type": "code",
   "execution_count": 14,
   "metadata": {},
   "outputs": [
    {
     "data": {
      "text/plain": [
       "array([[ 1.78686297,  1.29118999],\n",
       "       [ 1.29118999,  1.36441414]])"
      ]
     },
     "execution_count": 14,
     "metadata": {},
     "output_type": "execute_result"
    }
   ],
   "source": [
    "cov_matrix_B = np.random.random(size=(2,2))\n",
    "cov_matrix_B[0, 0] *= 3\n",
    "cov_matrix_B[1, 1] *= 3\n",
    "cov_matrix_B[0, 1] = cov_matrix_B[0, 0] * cov_matrix_B[1, 1] * cov_matrix_B[0, 1]\n",
    "cov_matrix_B[1, 0] = cov_matrix_B[0, 1]\n",
    "cov_matrix_B"
   ]
  },
  {
   "cell_type": "code",
   "execution_count": 15,
   "metadata": {
    "colab": {},
    "colab_type": "code",
    "collapsed": true,
    "id": "maV6h7EXmz2s"
   },
   "outputs": [],
   "source": [
    "expecatation_value1 = np.random.random(size=(2,))*5-1\n",
    "expecatation_value2 = np.random.random(size=(2,))*5-1"
   ]
  },
  {
   "cell_type": "code",
   "execution_count": 16,
   "metadata": {
    "colab": {},
    "colab_type": "code",
    "id": "lNoVrHGKlvtf"
   },
   "outputs": [
    {
     "name": "stderr",
     "output_type": "stream",
     "text": [
      "/home/raroog/anaconda3/lib/python3.6/site-packages/ipykernel_launcher.py:2: RuntimeWarning: covariance is not positive-semidefinite.\n",
      "  \n"
     ]
    }
   ],
   "source": [
    "samples_number = 100\n",
    "set1 = np.random.multivariate_normal(size=samples_number, mean=expecatation_value1, cov=cov_matrix_A)\n",
    "set2 = np.random.multivariate_normal(size=samples_number, mean=expecatation_value2, cov=cov_matrix_B)"
   ]
  },
  {
   "cell_type": "code",
   "execution_count": 17,
   "metadata": {
    "collapsed": true
   },
   "outputs": [],
   "source": [
    "def plot_dists_with_elipses(A, B, n=1, line=None):\n",
    "  def eigsorted(cov):\n",
    "    vals, vecs = np.linalg.eigh(cov)\n",
    "    order = vals.argsort()[::-1]\n",
    "    return vals[order], vecs[:,order]\n",
    "  df_A = pd.DataFrame(A, columns=['x1', 'x2'])\n",
    "  df_B = pd.DataFrame(B, columns=['x1', 'x2'])\n",
    "  \n",
    "  eig_values_A, eig_vectors_A = eigsorted(df_A.corr())\n",
    "  eig_values_B, eig_vectors_B = eigsorted(df_B.corr())\n",
    "  \n",
    "  width_A, height_A = 2 * n * np.sqrt(eig_values_A)\n",
    "  width_B, height_B = 2 * n * np.sqrt(eig_values_B)\n",
    "  \n",
    "  theta_A = np.degrees(np.arctan2(*eig_vectors_A[:,0][::-1]))\n",
    "  theta_B = np.degrees(np.arctan2(*eig_vectors_B[:,0][::-1]))\n",
    "  \n",
    "  e1 = patches.Ellipse(df_A.mean(), width_A, height_A, linewidth=2, fill=False, angle=theta_A, color='orange')\n",
    "  e2 = patches.Ellipse(df_B.mean(), width_B, height_B, linewidth=2, fill=False, angle=theta_B, color='blue')\n",
    "  \n",
    "  plt.scatter(x=set1[:,0], y=set1[:,1], marker='+', color='xkcd:goldenrod', label='Set 1')\n",
    "  plt.scatter(x=set2[:,0], y=set2[:,1], marker='x', color='xkcd:sky blue', label='Set 2')\n",
    "  \n",
    "  if not (line is None):\n",
    "    xp = np.arange(-4,6, 0.01)\n",
    "    plt.plot(xp, line(xp))\n",
    "  \n",
    "  plt.xlabel(r'$x_1$')\n",
    "  plt.ylabel(r'$x_2$')\n",
    "  plt.title(r'Normal distributions with $1-\\sigma$ confidence elipses')\n",
    "  plt.legend()\n",
    "  \n",
    "  ax = plt.gca()\n",
    "  ax.add_artist(e1)\n",
    "  ax.add_artist(e2)\n",
    "  plt.show()"
   ]
  },
  {
   "cell_type": "code",
   "execution_count": 18,
   "metadata": {},
   "outputs": [
    {
     "data": {
      "image/png": "[encoded data removed]",
      "text/plain": [
       "<matplotlib.figure.Figure at 0x7ff1afafd0f0>"
      ]
     },
     "metadata": {},
     "output_type": "display_data"
    }
   ],
   "source": [
    "plot_dists_with_elipses(set1, set2)"
   ]
  },
  {
   "cell_type": "code",
   "execution_count": 19,
   "metadata": {
    "collapsed": true
   },
   "outputs": [],
   "source": [
    "def scalar_RMSE(X, Y, estimator):\n",
    "  loss = 0\n",
    "  for i in range(X.shape[0]):\n",
    "    loss += 0.5 * np.abs(estimator(X[i]) - Y[i])**2\n",
    "  return loss"
   ]
  },
  {
   "cell_type": "code",
   "execution_count": 44,
   "metadata": {
    "collapsed": true
   },
   "outputs": [],
   "source": [
    "def sigmoid(x):\n",
    "  return np.power(1+np.exp(-x),-1)"
   ]
  },
  {
   "cell_type": "code",
   "execution_count": 45,
   "metadata": {
    "collapsed": true
   },
   "outputs": [],
   "source": [
    "def scalar_RMSE_derivative(x, y, estimator):\n",
    "  disc = estimator(x)\n",
    "  loss = np.abs(disc - y) * disc * (1 - disc)\n",
    "  return loss"
   ]
  },
  {
   "cell_type": "code",
   "execution_count": 46,
   "metadata": {},
   "outputs": [],
   "source": [
    "class sigmoid_discriminant:\n",
    "  def __init__(self, weights, bias):\n",
    "    self.weights = weights\n",
    "    self.bias = bias\n",
    "    \n",
    "  def predict(self, x):\n",
    "    return sigmoid(self.__weights @ x + self.__bias)\n",
    "  \n",
    "  @property\n",
    "  def weights(self):\n",
    "    return np.copy(self.__weights)\n",
    "  \n",
    "  @weights.setter\n",
    "  def weights(self, weights):\n",
    "    self.__weights = weights\n",
    "  \n",
    "  @property\n",
    "  def bias(self):\n",
    "    return np.copy(self.__bias)\n",
    "  \n",
    "  @bias.setter\n",
    "  def bias(self, bias):\n",
    "    self.__bias = bias"
   ]
  },
  {
   "cell_type": "code",
   "execution_count": 53,
   "metadata": {},
   "outputs": [],
   "source": [
    "def train_sigmoid_discriminant(train_set, labels, epochs, learning_rate):\n",
    "  weights = np.random.random((2,))\n",
    "  bias = np.random.random()\n",
    "  disc = sigmoid_discriminant(weights, bias)\n",
    "  for i in range(epochs):\n",
    "    weights_change = np.zeros((2,))\n",
    "    bias_change = np.zeros((1,))\n",
    "    for j in range(train_set.shape[0]):\n",
    "      loss_der = scalar_RMSE_derivative(train_set[j], labels[j], disc.predict)\n",
    "      weights_change += loss_der * train_set[j]\n",
    "      bias_change += loss_der\n",
    "    disc.weights = weights_change -learning_rate * weights_change\n",
    "    disc.bias = disc.bias -learning_rate * bias_change\n",
    "  return disc"
   ]
  },
  {
   "cell_type": "code",
   "execution_count": 54,
   "metadata": {},
   "outputs": [],
   "source": [
    "trainset = np.concatenate((set1, set2))\n",
    "targets = np.concatenate((np.zeros((samples_number,)), np.ones((samples_number,))))"
   ]
  },
  {
   "cell_type": "code",
   "execution_count": 55,
   "metadata": {},
   "outputs": [],
   "source": [
    "disc = train_sigmoid_discriminant(trainset, targets, 10, 0.1)"
   ]
  },
  {
   "cell_type": "code",
   "execution_count": null,
   "metadata": {
    "collapsed": true
   },
   "outputs": [],
   "source": [
    "plt.plot(np.arange())"
   ]
  },
  {
   "cell_type": "code",
   "execution_count": 58,
   "metadata": {},
   "outputs": [
    {
     "data": {
      "text/plain": [
       "array([[  1.00000000e+00],\n",
       "       [  1.00000000e+00],\n",
       "       [  1.00000000e+00],\n",
       "       [  1.00000000e+00],\n",
       "       [  1.00000000e+00],\n",
       "       [  1.00000000e+00],\n",
       "       [  1.00000000e+00],\n",
       "       [  1.00000000e+00],\n",
       "       [  1.00000000e+00],\n",
       "       [  1.00000000e+00],\n",
       "       [  1.00000000e+00],\n",
       "       [  1.00000000e+00],\n",
       "       [  1.00000000e+00],\n",
       "       [  1.00000000e+00],\n",
       "       [  1.00000000e+00],\n",
       "       [  1.00000000e+00],\n",
       "       [  4.24112598e-01],\n",
       "       [  1.00000000e+00],\n",
       "       [  1.00000000e+00],\n",
       "       [  1.00000000e+00],\n",
       "       [  1.00000000e+00],\n",
       "       [  1.00000000e+00],\n",
       "       [  1.00000000e+00],\n",
       "       [  1.00000000e+00],\n",
       "       [  1.00000000e+00],\n",
       "       [  1.00000000e+00],\n",
       "       [  1.00000000e+00],\n",
       "       [  1.00000000e+00],\n",
       "       [  1.00000000e+00],\n",
       "       [  1.00000000e+00],\n",
       "       [  1.00000000e+00],\n",
       "       [  1.00000000e+00],\n",
       "       [  1.00000000e+00],\n",
       "       [  1.00000000e+00],\n",
       "       [  1.00000000e+00],\n",
       "       [  1.00000000e+00],\n",
       "       [  1.00000000e+00],\n",
       "       [  1.00000000e+00],\n",
       "       [  1.00000000e+00],\n",
       "       [  1.00000000e+00],\n",
       "       [  9.99871708e-01],\n",
       "       [  1.00000000e+00],\n",
       "       [  1.00000000e+00],\n",
       "       [  9.99999999e-01],\n",
       "       [  1.00000000e+00],\n",
       "       [  1.00000000e+00],\n",
       "       [  1.00000000e+00],\n",
       "       [  9.99915222e-01],\n",
       "       [  1.00000000e+00],\n",
       "       [  1.00000000e+00],\n",
       "       [  1.00000000e+00],\n",
       "       [  1.00000000e+00],\n",
       "       [  1.00000000e+00],\n",
       "       [  1.00000000e+00],\n",
       "       [  4.36642426e-13],\n",
       "       [  5.05445347e-07],\n",
       "       [  1.00000000e+00],\n",
       "       [  1.00000000e+00],\n",
       "       [  1.00000000e+00],\n",
       "       [  9.99999996e-01],\n",
       "       [  1.00000000e+00],\n",
       "       [  1.00000000e+00],\n",
       "       [  1.00526256e-09],\n",
       "       [  1.00000000e+00],\n",
       "       [  1.00000000e+00],\n",
       "       [  1.00000000e+00],\n",
       "       [  1.00000000e+00],\n",
       "       [  1.00000000e+00],\n",
       "       [  7.58279720e-01],\n",
       "       [  1.00000000e+00],\n",
       "       [  1.00000000e+00],\n",
       "       [  1.00000000e+00],\n",
       "       [  1.00000000e+00],\n",
       "       [  1.00000000e+00],\n",
       "       [  7.87844856e-05],\n",
       "       [  1.00000000e+00],\n",
       "       [  1.00000000e+00],\n",
       "       [  1.00000000e+00],\n",
       "       [  1.00000000e+00],\n",
       "       [  1.00000000e+00],\n",
       "       [  1.00000000e+00],\n",
       "       [  1.00000000e+00],\n",
       "       [  1.00000000e+00],\n",
       "       [  1.00000000e+00],\n",
       "       [  1.00000000e+00],\n",
       "       [  1.00000000e+00],\n",
       "       [  1.00000000e+00],\n",
       "       [  1.00000000e+00],\n",
       "       [  1.00000000e+00],\n",
       "       [  1.00000000e+00],\n",
       "       [  1.00000000e+00],\n",
       "       [  1.00000000e+00],\n",
       "       [  1.00000000e+00],\n",
       "       [  1.00000000e+00],\n",
       "       [  1.00000000e+00],\n",
       "       [  1.00000000e+00],\n",
       "       [  9.99999928e-01],\n",
       "       [  1.00000000e+00],\n",
       "       [  1.00000000e+00],\n",
       "       [  1.00000000e+00],\n",
       "       [  1.00000000e+00],\n",
       "       [  4.66241577e-03],\n",
       "       [  9.82921545e-01],\n",
       "       [  1.00000000e+00],\n",
       "       [  4.77565619e-14],\n",
       "       [  9.99983055e-01],\n",
       "       [  2.86516648e-19],\n",
       "       [  9.99982245e-01],\n",
       "       [  9.79634749e-13],\n",
       "       [  1.00000000e+00],\n",
       "       [  7.51208153e-20],\n",
       "       [  1.00000000e+00],\n",
       "       [  8.29629704e-10],\n",
       "       [  1.95666575e-06],\n",
       "       [  1.00000000e+00],\n",
       "       [  5.56671961e-34],\n",
       "       [  1.00000000e+00],\n",
       "       [  7.62964738e-12],\n",
       "       [  1.00000000e+00],\n",
       "       [  1.00000000e+00],\n",
       "       [  1.00000000e+00],\n",
       "       [  1.00000000e+00],\n",
       "       [  3.69401583e-03],\n",
       "       [  1.00000000e+00],\n",
       "       [  1.00000000e+00],\n",
       "       [  7.09390318e-15],\n",
       "       [  9.84805437e-27],\n",
       "       [  9.99999942e-01],\n",
       "       [  2.97415013e-10],\n",
       "       [  1.02539243e-01],\n",
       "       [  1.00000000e+00],\n",
       "       [  1.00000000e+00],\n",
       "       [  1.00000000e+00],\n",
       "       [  1.23522383e-04],\n",
       "       [  1.00000000e+00],\n",
       "       [  9.99998019e-01],\n",
       "       [  2.68470419e-07],\n",
       "       [  1.00000000e+00],\n",
       "       [  7.72521606e-17],\n",
       "       [  1.00000000e+00],\n",
       "       [  1.00000000e+00],\n",
       "       [  1.00000000e+00],\n",
       "       [  1.00000000e+00],\n",
       "       [  1.00000000e+00],\n",
       "       [  1.42863452e-10],\n",
       "       [  1.00000000e+00],\n",
       "       [  1.00000000e+00],\n",
       "       [  9.99998782e-01],\n",
       "       [  1.00000000e+00],\n",
       "       [  9.99999988e-01],\n",
       "       [  2.17530180e-15],\n",
       "       [  1.00000000e+00],\n",
       "       [  9.89485144e-01],\n",
       "       [  7.30042444e-01],\n",
       "       [  1.00000000e+00],\n",
       "       [  1.00000000e+00],\n",
       "       [  2.50697887e-44],\n",
       "       [  9.99999760e-01],\n",
       "       [  1.00000000e+00],\n",
       "       [  7.87588772e-07],\n",
       "       [  7.94425104e-26],\n",
       "       [  2.07327018e-08],\n",
       "       [  1.10783015e-06],\n",
       "       [  1.00000000e+00],\n",
       "       [  1.14200073e-32],\n",
       "       [  1.00000000e+00],\n",
       "       [  5.04565086e-01],\n",
       "       [  9.99584056e-01],\n",
       "       [  1.00000000e+00],\n",
       "       [  1.79694966e-52],\n",
       "       [  1.00000000e+00],\n",
       "       [  1.00000000e+00],\n",
       "       [  8.47268796e-17],\n",
       "       [  9.99997254e-01],\n",
       "       [  1.00182721e-10],\n",
       "       [  1.00000000e+00],\n",
       "       [  6.68333682e-09],\n",
       "       [  1.00000000e+00],\n",
       "       [  1.57030591e-01],\n",
       "       [  1.00000000e+00],\n",
       "       [  1.00000000e+00],\n",
       "       [  1.00000000e+00],\n",
       "       [  1.00000000e+00],\n",
       "       [  8.32517444e-11],\n",
       "       [  1.00000000e+00],\n",
       "       [  1.00000000e+00],\n",
       "       [  1.00000000e+00],\n",
       "       [  1.00000000e+00],\n",
       "       [  9.99996360e-01],\n",
       "       [  1.87239817e-03],\n",
       "       [  1.00000000e+00],\n",
       "       [  2.26877191e-45],\n",
       "       [  1.00000000e+00],\n",
       "       [  1.00000000e+00],\n",
       "       [  4.02678977e-20],\n",
       "       [  1.03908377e-32],\n",
       "       [  9.99999995e-01],\n",
       "       [  9.93795038e-26],\n",
       "       [  1.00000000e+00],\n",
       "       [  9.98877756e-01]])"
      ]
     },
     "execution_count": 58,
     "metadata": {},
     "output_type": "execute_result"
    }
   ],
   "source": [
    "np.apply_along_axis(func1d=disc.predict,arr=trainset,axis=1)"
   ]
  },
  {
   "cell_type": "code",
   "execution_count": null,
   "metadata": {
    "collapsed": true
   },
   "outputs": [],
   "source": []
  }
 ],
 "metadata": {
  "kernelspec": {
   "display_name": "Python 3",
   "language": "python",
   "name": "python3"
  },
  "language_info": {
   "codemirror_mode": {
    "name": "ipython",
    "version": 3
   },
   "file_extension": ".py",
   "mimetype": "text/x-python",
   "name": "python",
   "nbconvert_exporter": "python",
   "pygments_lexer": "ipython3",
   "version": "3.6.2"
  }
 },
 "nbformat": 4,
 "nbformat_minor": 2
}
